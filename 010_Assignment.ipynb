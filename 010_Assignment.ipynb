{
 "cells": [
  {
   "cell_type": "markdown",
   "id": "db8ed23b-f227-4def-8115-4b46174e1543",
   "metadata": {},
   "source": [
    "## Python Looping Homework Assignment"
   ]
  },
  {
   "cell_type": "markdown",
   "id": "94ff386d-20ff-4e2a-a115-21d19ded09b7",
   "metadata": {},
   "source": [
    "### Part 1: for loops with lists and range()"
   ]
  },
  {
   "cell_type": "code",
   "execution_count": null,
   "id": "7f514b68-bca0-4cac-83db-da296a7b1692",
   "metadata": {},
   "outputs": [],
   "source": [
    "1. Lists"
   ]
  },
  {
   "cell_type": "markdown",
   "id": "66f25b37-ac77-4b20-bc22-4863cf1acf51",
   "metadata": {},
   "source": [
    "a) Write a program (i.e. code cell) that takes a list of numbers and prints each number multiplied by 2.\n",
    "\n",
    "Example Input: [2, 4, 6, 8]\n",
    "\n",
    "Example Output:\n",
    "\n",
    "4\n",
    "8\n",
    "12\n",
    "16"
   ]
  },
  {
   "cell_type": "code",
   "execution_count": 10,
   "id": "39a6d418-5a89-472a-88fa-735f5b888ceb",
   "metadata": {
    "tags": []
   },
   "outputs": [
    {
     "name": "stdout",
     "output_type": "stream",
     "text": [
      "4\n",
      "8\n",
      "12\n",
      "16\n"
     ]
    }
   ],
   "source": [
    "#nums = input('Enter numbers: ')\n",
    "#nums = inums.split()\n",
    "\n",
    "nums = [2, 4, 6, 8]\n",
    "for num in nums:\n",
    "    print(num * 2)"
   ]
  },
  {
   "cell_type": "markdown",
   "id": "153979b3-2447-42d7-ba1c-321b3101d745",
   "metadata": {},
   "source": [
    "b) Given a list of strings, write a program that prints out the elements of the string in reverse order without reversing the list itself.\n",
    "\n",
    "Example Input: [\"apple\", \"pear\", \"kiwi\", \"grape\"]\n",
    "\n",
    "Example Output:\n",
    "\n",
    "grape\n",
    "kiwi\n",
    "pear\n",
    "apple"
   ]
  },
  {
   "cell_type": "code",
   "execution_count": 16,
   "id": "5f135efe-2816-42ad-afd5-bc6ad2bdf58b",
   "metadata": {
    "tags": []
   },
   "outputs": [
    {
     "name": "stdout",
     "output_type": "stream",
     "text": [
      "['grape', 'kiwi', 'pear', 'apple']\n"
     ]
    }
   ],
   "source": [
    "lst = [\"apple\", \"pear\", \"kiwi\", \"grape\"]\n",
    "'''fl = []\n",
    "for fruit in lst:\n",
    "    nf = lst.pop()\n",
    "    nl = fl.append(nf)\n",
    "    #print(nf)\n",
    "    #print(lst)\n",
    "print(fl)'''\n",
    "\n",
    "rev_lst = []\n",
    "for fruit in lst:\n",
    "    rev_lst = [fruit] + rev_lst   #rev_lst.append(fruit)\n",
    "\n",
    "print(rev_lst)"
   ]
  },
  {
   "cell_type": "markdown",
   "id": "9ec85d6d-5135-4bb9-9222-65a2136a6a48",
   "metadata": {},
   "source": [
    "2. Using the range() function:"
   ]
  },
  {
   "cell_type": "markdown",
   "id": "72c44e8f-abee-4ee6-a5e5-a38fd7bc55a9",
   "metadata": {},
   "source": [
    "a) Write code that uses a for loop and the range() function to print numbers 0 through 9.\n",
    "\n",
    "b) Use the range() function to print numbers from 5 to 15.\n",
    "\n",
    "c) Create a program that prints out the first 10 even numbers using the range() function."
   ]
  },
  {
   "cell_type": "code",
   "execution_count": 17,
   "id": "c8b7eb6e-da3f-477a-9b5b-637187e12f76",
   "metadata": {
    "tags": []
   },
   "outputs": [
    {
     "name": "stdout",
     "output_type": "stream",
     "text": [
      "0\n",
      "1\n",
      "2\n",
      "3\n",
      "4\n",
      "5\n",
      "6\n",
      "7\n",
      "8\n",
      "9\n"
     ]
    }
   ],
   "source": [
    "for i in range(10):\n",
    "    print(i)"
   ]
  },
  {
   "cell_type": "code",
   "execution_count": 18,
   "id": "9a776b6f-6842-4950-9ef4-8abc1ce47019",
   "metadata": {
    "tags": []
   },
   "outputs": [
    {
     "name": "stdout",
     "output_type": "stream",
     "text": [
      "5\n",
      "6\n",
      "7\n",
      "8\n",
      "9\n",
      "10\n",
      "11\n",
      "12\n",
      "13\n",
      "14\n",
      "15\n"
     ]
    }
   ],
   "source": [
    "for i in range(5,16):\n",
    "    print(i)"
   ]
  },
  {
   "cell_type": "code",
   "execution_count": 20,
   "id": "d6bc9b68-c3ec-4f22-a182-d4adaeb36b44",
   "metadata": {
    "tags": []
   },
   "outputs": [
    {
     "name": "stdout",
     "output_type": "stream",
     "text": [
      "0\n",
      "2\n",
      "4\n",
      "6\n",
      "8\n",
      "10\n",
      "12\n",
      "14\n",
      "16\n",
      "18\n"
     ]
    }
   ],
   "source": [
    "for num in range(20):\n",
    "    if num%2 == 0:\n",
    "        print(num)"
   ]
  },
  {
   "cell_type": "markdown",
   "id": "459e088d-2b41-4dcf-bc8e-a16236d981d0",
   "metadata": {},
   "source": [
    "Part 2: Dictionaries and Loops"
   ]
  },
  {
   "cell_type": "markdown",
   "id": "5b3bd4e4-7201-4444-bc67-015f7c2fd513",
   "metadata": {},
   "source": [
    "a) Create a dictionary where the keys are student names and the values are their favorite colors. Write a program that prints out each student's name and their favorite color.\n",
    "\n",
    "Example Output:\n",
    "\n",
    "Alex's favorite color is Blue.\n",
    "Jordan's favorite color is Green.\n",
    "Taylor's favorite color is Red."
   ]
  },
  {
   "cell_type": "code",
   "execution_count": 26,
   "id": "45213c5e-3559-470e-9b24-31bc202537b2",
   "metadata": {
    "tags": []
   },
   "outputs": [
    {
     "name": "stdout",
     "output_type": "stream",
     "text": [
      "Alex's favorite color is Blue\n",
      "Jordan's favorite color is Green\n",
      "Taylor's favorite color is Red\n"
     ]
    }
   ],
   "source": [
    "myd = {'Alex':'Blue', 'Jordan':'Green', 'Taylor':'Red'}\n",
    "\n",
    "for stu in myd:\n",
    "    print(stu, \"'s favorite color is \", myd[stu], sep = '')"
   ]
  },
  {
   "cell_type": "markdown",
   "id": "0feed2fc-d957-484b-ac8c-03c9e90a01fd",
   "metadata": {},
   "source": [
    "b) Given a dictionary with product names as keys and their quantities as values, write a program that doubles the quantity of each product and prints out the updated quantities.\n",
    "\n",
    "Example Input: {\"apple\": 5, \"banana\": 3, \"cherries\": 10}\n",
    "\n",
    "Example Output:\n",
    "\n",
    "apple now has 10.\n",
    "banana now has 6.\n",
    "cherries now have 20."
   ]
  },
  {
   "cell_type": "code",
   "execution_count": 28,
   "id": "c8390fd7-c1c5-4b13-a7ae-10190d1d25b7",
   "metadata": {
    "tags": []
   },
   "outputs": [
    {
     "name": "stdout",
     "output_type": "stream",
     "text": [
      "{'apple': 10, 'banana': 6, 'cherries': 20}\n"
     ]
    }
   ],
   "source": [
    "dic = {\"apple\": 5, \"banana\": 3, \"cherries\": 10}\n",
    "\n",
    "for fruit in dic:\n",
    "    dic[fruit] = dic[fruit] * 2\n",
    "print(dic)"
   ]
  },
  {
   "cell_type": "markdown",
   "id": "108cf54c-a130-497d-8af9-2cb1222d3ad5",
   "metadata": {},
   "source": [
    "### Part 3: Storing Results of a For Loop in a New List and List Comprehensions"
   ]
  },
  {
   "cell_type": "markdown",
   "id": "50474305-eec8-4f6e-ab5b-7d4f6e477d1f",
   "metadata": {},
   "source": [
    "1. not using list comprehension"
   ]
  },
  {
   "cell_type": "markdown",
   "id": "778c8eac-c10e-445e-a19c-365c67d95a9c",
   "metadata": {},
   "source": [
    "a) Write a program that takes a list of numbers and creates a new list with each number multiplied by 2.\n",
    "\n",
    "Example Input: [1, 3, 5, 7]\n",
    "\n",
    "Example Output (new list): [2, 6, 10, 14]\n"
   ]
  },
  {
   "cell_type": "code",
   "execution_count": 31,
   "id": "50679c6f-ff54-43dd-b0ef-789660a7d481",
   "metadata": {
    "tags": []
   },
   "outputs": [
    {
     "name": "stdout",
     "output_type": "stream",
     "text": [
      "[2, 6, 10, 14]\n"
     ]
    }
   ],
   "source": [
    "num_lst = [1, 3, 5, 7]\n",
    "n_num = []\n",
    "\n",
    "for num in num_lst:\n",
    "    n_num.append(num*2)\n",
    "    \n",
    "print(n_num)"
   ]
  },
  {
   "cell_type": "code",
   "execution_count": null,
   "id": "d8564ea9-7d27-497e-90ba-bcccb5d2ea5a",
   "metadata": {},
   "outputs": [],
   "source": [
    "b) Given a list of words, create a new list that contains the first letter of each word.\n",
    "\n",
    "Example Input: [\"Apple\", \"Banana\", \"Cherry\", \"Date\"]\n",
    "\n",
    "Example Output (new list): [\"A\", \"B\", \"C\", \"D\"]"
   ]
  },
  {
   "cell_type": "code",
   "execution_count": 32,
   "id": "463033d6-cf97-49fb-a53e-7583a123f27a",
   "metadata": {
    "tags": []
   },
   "outputs": [
    {
     "name": "stdout",
     "output_type": "stream",
     "text": [
      "['A', 'B', 'C', 'D']\n"
     ]
    }
   ],
   "source": [
    "w_lst = [\"Apple\", \"Banana\", \"Cherry\", \"Date\"]\n",
    "n_w = []\n",
    "\n",
    "for word in w_lst:\n",
    "    w = word[0]\n",
    "    n_w.append(w)\n",
    "\n",
    "print(n_w)    "
   ]
  },
  {
   "cell_type": "markdown",
   "id": "a682f8c3-df50-4df6-bf7f-59606fc9bb23",
   "metadata": {},
   "source": [
    "2. using list comprehension"
   ]
  },
  {
   "cell_type": "markdown",
   "id": "c7c77590-c297-42f1-bd46-73b0ffd6f34e",
   "metadata": {},
   "source": [
    "c) Use a list comprehension to compute and save the square roots of a list of numbers from 1 to 10.\n",
    "\n",
    "Input list: [1, 2, 3, 4, 5, 6, 7, 8, 9, 10]\n",
    "\n",
    "Expected Output:\n",
    "\n",
    "[1.0,\n",
    " 1.4142135623730951,\n",
    " 1.7320508075688772,\n",
    " 2.0,\n",
    " 2.23606797749979,\n",
    " 2.449489742783178,\n",
    " 2.6457513110645907,\n",
    " 2.8284271247461903,\n",
    " 3.0,\n",
    " 3.1622776601683795]"
   ]
  },
  {
   "cell_type": "code",
   "execution_count": 36,
   "id": "475aa4f3-3b91-4fb5-abf2-7333d8e84a20",
   "metadata": {
    "tags": []
   },
   "outputs": [
    {
     "name": "stdout",
     "output_type": "stream",
     "text": [
      "[1.0, 1.4142135623730951, 1.7320508075688772, 2.0, 2.23606797749979, 2.449489742783178, 2.6457513110645907, 2.8284271247461903, 3.0, 3.1622776601683795]\n"
     ]
    }
   ],
   "source": [
    "oth_lst = [1, 2, 3, 4, 5, 6, 7, 8, 9, 10]\n",
    "'''sq_lst = []\n",
    "\n",
    "for i in oth_lst:\n",
    "    sq_lst.append(i**(1/2))\n",
    "\n",
    "print(sq_lst)'''\n",
    "\n",
    "sq = [i**(1/2) for i in oth_lst]\n",
    "print(sq)"
   ]
  },
  {
   "cell_type": "markdown",
   "id": "2eaf2930-89a0-4401-889b-7c31774b6530",
   "metadata": {},
   "source": [
    "d) Given a list of words, use a list comprehension to create a new list containing the last letter of each word.\n",
    "\n",
    "Example Input: [\"apple\", \"pear\", \"kiwi\", \"grape\"]\n",
    "\n",
    "Expected Output: [\"e\", \"r\", \"i\", \"e\"]"
   ]
  },
  {
   "cell_type": "code",
   "execution_count": 37,
   "id": "fec951cc-9822-418e-8dda-2b4371a89572",
   "metadata": {
    "tags": []
   },
   "outputs": [
    {
     "name": "stdout",
     "output_type": "stream",
     "text": [
      "['e', 'r', 'i', 'e']\n"
     ]
    }
   ],
   "source": [
    "f_lst = [\"apple\", \"pear\", \"kiwi\", \"grape\"]\n",
    "\n",
    "fls = [f[-1] for f in f_lst]\n",
    "\n",
    "print(fls)"
   ]
  },
  {
   "cell_type": "markdown",
   "id": "6bbb289b-b40d-426c-9c99-5272cac6eb78",
   "metadata": {},
   "source": [
    "### Part 4: nested loops"
   ]
  },
  {
   "cell_type": "markdown",
   "id": "23aa8d58-d966-4bbf-a82f-8fcdc626d852",
   "metadata": {},
   "source": [
    "a) Write some code to \"flatten\" the following list-of-lists-of-lists:\n",
    "\n",
    "deep_list = [[[1, 2, 3, 4], [5, 6, 7, 8]],\n",
    "            [[9, 10, 11, 12], [13, 14, 15, 16]],\n",
    "            [[17, 18, 19, 20], [21, 22, 23, 42]]]\n",
    "(that is, make into a simple list of ints)"
   ]
  },
  {
   "cell_type": "code",
   "execution_count": 53,
   "id": "dfced39a-adb3-44ed-bde1-aedd330d5864",
   "metadata": {
    "tags": []
   },
   "outputs": [
    {
     "name": "stdout",
     "output_type": "stream",
     "text": [
      "[1, 2, 3, 4, 5, 6, 7, 8, 9, 10, 11, 12, 13, 14, 15, 16, 17, 18, 19, 20, 21, 22, 23, 42]\n"
     ]
    }
   ],
   "source": [
    "deep_list = [[[1, 2, 3, 4], [5, 6, 7, 8]],\n",
    "            [[9, 10, 11, 12], [13, 14, 15, 16]],\n",
    "            [[17, 18, 19, 20], [21, 22, 23, 42]]]\n",
    "flat_lst = []\n",
    "\n",
    "'''for ls in deep_list:\n",
    "    for num in ls:\n",
    "        flat_lst.append(num)'''\n",
    "        \n",
    "for j in range(3):\n",
    "    for i in range(2):\n",
    "        for d in range(4):\n",
    "            '''n = deep_list[j][i]\n",
    "            flat_lst.append(n)'''\n",
    "            flat_lst.append(deep_list[j][i][d])\n",
    "\n",
    "print(flat_lst)"
   ]
  },
  {
   "cell_type": "markdown",
   "id": "e0a961c2-6977-45e4-b94e-288fdbf0bd5a",
   "metadata": {},
   "source": [
    "b) Write code that, given a list of strings like this:\n",
    "\n",
    "myStrLst = [\"able\", \"was\", \"I\", \"ere\", \"I\", \"saw\", \"elba\"]\n",
    "reverses both the order of the strings in the list and the order of the letters in each string.\n",
    "\n",
    "Warning This one is tough, and requires you put together a few of the skills we've learned, so don't get frustrated if it takes you a lot of trial and error! That's what coding is often like!"
   ]
  },
  {
   "cell_type": "code",
   "execution_count": 18,
   "id": "8e748caf-b0a2-4732-8f6c-8a5cb4a33581",
   "metadata": {
    "tags": []
   },
   "outputs": [
    {
     "name": "stdout",
     "output_type": "stream",
     "text": [
      "['able', 'was', 'I', 'ere', 'I', 'saw', 'elba']\n"
     ]
    }
   ],
   "source": [
    "myStrLst = [\"able\", \"was\", \"I\", \"ere\", \"I\", \"saw\", \"elba\"]\n",
    "reve_lst = []\n",
    "rev_word = ''\n",
    "\n",
    "for word in myStrLst[::-1]:\n",
    "    for w in word[::-1]:\n",
    "        #print(w)\n",
    "        rev_word = rev_word + w\n",
    "        \n",
    "    reve_lst.append(rev_word)\n",
    "    rev_word = ''\n",
    "        \n",
    "print(reve_lst)\n",
    "        \n",
    "        "
   ]
  }
 ],
 "metadata": {
  "kernelspec": {
   "display_name": "Python 3 (ipykernel)",
   "language": "python",
   "name": "python3"
  },
  "language_info": {
   "codemirror_mode": {
    "name": "ipython",
    "version": 3
   },
   "file_extension": ".py",
   "mimetype": "text/x-python",
   "name": "python",
   "nbconvert_exporter": "python",
   "pygments_lexer": "ipython3",
   "version": "3.11.4"
  }
 },
 "nbformat": 4,
 "nbformat_minor": 5
}
