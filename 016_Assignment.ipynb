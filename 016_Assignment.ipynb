{
 "cells": [
  {
   "cell_type": "markdown",
   "id": "993eb0eb-ffc0-4b03-b656-3065db0e4bde",
   "metadata": {},
   "source": [
    "Python Homework: Data Analysis with Pandas and Seaborn"
   ]
  },
  {
   "cell_type": "markdown",
   "id": "7226861e-cb6d-44fb-b255-d1f4d2499b85",
   "metadata": {},
   "source": [
    "Reading the Dataset:\n",
    "\n",
    "Use pandas to read the Iris dataset into a data frame.\n",
    "The dataset does not contain headers. Assign the following column names to your data frame: ['sepal_length', 'sepal_width', 'petal_length', 'petal_width', 'species']"
   ]
  },
  {
   "cell_type": "code",
   "execution_count": 2,
   "id": "69979d26-82d7-4c26-90bf-4319bff31a1c",
   "metadata": {
    "tags": []
   },
   "outputs": [],
   "source": [
    "import pandas as pd\n",
    "import seaborn as ss"
   ]
  },
  {
   "cell_type": "code",
   "execution_count": 3,
   "id": "01554ff3-3085-4d70-8475-62c7fa48bf5a",
   "metadata": {
    "tags": []
   },
   "outputs": [],
   "source": [
    "dat = pd.read_csv(\"./datasets/Iris.csv\")\n",
    "#display(dat)"
   ]
  },
  {
   "cell_type": "code",
   "execution_count": 4,
   "id": "c021ffe8-5948-48b2-bea3-14b5c89ad07c",
   "metadata": {
    "tags": []
   },
   "outputs": [
    {
     "data": {
      "text/html": [
       "<div>\n",
       "<style scoped>\n",
       "    .dataframe tbody tr th:only-of-type {\n",
       "        vertical-align: middle;\n",
       "    }\n",
       "\n",
       "    .dataframe tbody tr th {\n",
       "        vertical-align: top;\n",
       "    }\n",
       "\n",
       "    .dataframe thead th {\n",
       "        text-align: right;\n",
       "    }\n",
       "</style>\n",
       "<table border=\"1\" class=\"dataframe\">\n",
       "  <thead>\n",
       "    <tr style=\"text-align: right;\">\n",
       "      <th></th>\n",
       "      <th>Id</th>\n",
       "      <th>sepal_length</th>\n",
       "      <th>sepal_width</th>\n",
       "      <th>petal_length</th>\n",
       "      <th>petal_width</th>\n",
       "      <th>species</th>\n",
       "    </tr>\n",
       "  </thead>\n",
       "  <tbody>\n",
       "    <tr>\n",
       "      <th>0</th>\n",
       "      <td>1</td>\n",
       "      <td>5.1</td>\n",
       "      <td>3.5</td>\n",
       "      <td>1.4</td>\n",
       "      <td>0.2</td>\n",
       "      <td>Iris-setosa</td>\n",
       "    </tr>\n",
       "    <tr>\n",
       "      <th>1</th>\n",
       "      <td>2</td>\n",
       "      <td>4.9</td>\n",
       "      <td>3.0</td>\n",
       "      <td>1.4</td>\n",
       "      <td>0.2</td>\n",
       "      <td>Iris-setosa</td>\n",
       "    </tr>\n",
       "    <tr>\n",
       "      <th>2</th>\n",
       "      <td>3</td>\n",
       "      <td>4.7</td>\n",
       "      <td>3.2</td>\n",
       "      <td>1.3</td>\n",
       "      <td>0.2</td>\n",
       "      <td>Iris-setosa</td>\n",
       "    </tr>\n",
       "    <tr>\n",
       "      <th>3</th>\n",
       "      <td>4</td>\n",
       "      <td>4.6</td>\n",
       "      <td>3.1</td>\n",
       "      <td>1.5</td>\n",
       "      <td>0.2</td>\n",
       "      <td>Iris-setosa</td>\n",
       "    </tr>\n",
       "    <tr>\n",
       "      <th>4</th>\n",
       "      <td>5</td>\n",
       "      <td>5.0</td>\n",
       "      <td>3.6</td>\n",
       "      <td>1.4</td>\n",
       "      <td>0.2</td>\n",
       "      <td>Iris-setosa</td>\n",
       "    </tr>\n",
       "    <tr>\n",
       "      <th>...</th>\n",
       "      <td>...</td>\n",
       "      <td>...</td>\n",
       "      <td>...</td>\n",
       "      <td>...</td>\n",
       "      <td>...</td>\n",
       "      <td>...</td>\n",
       "    </tr>\n",
       "    <tr>\n",
       "      <th>145</th>\n",
       "      <td>146</td>\n",
       "      <td>6.7</td>\n",
       "      <td>3.0</td>\n",
       "      <td>5.2</td>\n",
       "      <td>2.3</td>\n",
       "      <td>Iris-virginica</td>\n",
       "    </tr>\n",
       "    <tr>\n",
       "      <th>146</th>\n",
       "      <td>147</td>\n",
       "      <td>6.3</td>\n",
       "      <td>2.5</td>\n",
       "      <td>5.0</td>\n",
       "      <td>1.9</td>\n",
       "      <td>Iris-virginica</td>\n",
       "    </tr>\n",
       "    <tr>\n",
       "      <th>147</th>\n",
       "      <td>148</td>\n",
       "      <td>6.5</td>\n",
       "      <td>3.0</td>\n",
       "      <td>5.2</td>\n",
       "      <td>2.0</td>\n",
       "      <td>Iris-virginica</td>\n",
       "    </tr>\n",
       "    <tr>\n",
       "      <th>148</th>\n",
       "      <td>149</td>\n",
       "      <td>6.2</td>\n",
       "      <td>3.4</td>\n",
       "      <td>5.4</td>\n",
       "      <td>2.3</td>\n",
       "      <td>Iris-virginica</td>\n",
       "    </tr>\n",
       "    <tr>\n",
       "      <th>149</th>\n",
       "      <td>150</td>\n",
       "      <td>5.9</td>\n",
       "      <td>3.0</td>\n",
       "      <td>5.1</td>\n",
       "      <td>1.8</td>\n",
       "      <td>Iris-virginica</td>\n",
       "    </tr>\n",
       "  </tbody>\n",
       "</table>\n",
       "<p>150 rows × 6 columns</p>\n",
       "</div>"
      ],
      "text/plain": [
       "      Id  sepal_length  sepal_width  petal_length  petal_width         species\n",
       "0      1           5.1          3.5           1.4          0.2     Iris-setosa\n",
       "1      2           4.9          3.0           1.4          0.2     Iris-setosa\n",
       "2      3           4.7          3.2           1.3          0.2     Iris-setosa\n",
       "3      4           4.6          3.1           1.5          0.2     Iris-setosa\n",
       "4      5           5.0          3.6           1.4          0.2     Iris-setosa\n",
       "..   ...           ...          ...           ...          ...             ...\n",
       "145  146           6.7          3.0           5.2          2.3  Iris-virginica\n",
       "146  147           6.3          2.5           5.0          1.9  Iris-virginica\n",
       "147  148           6.5          3.0           5.2          2.0  Iris-virginica\n",
       "148  149           6.2          3.4           5.4          2.3  Iris-virginica\n",
       "149  150           5.9          3.0           5.1          1.8  Iris-virginica\n",
       "\n",
       "[150 rows x 6 columns]"
      ]
     },
     "metadata": {},
     "output_type": "display_data"
    }
   ],
   "source": [
    "dat.rename(columns = {'SepalLengthCm':'sepal_length', \n",
    "                      'SepalWidthCm' : 'sepal_width', \n",
    "                      'PetalLengthCm':'petal_length', \n",
    "                      'PetalWidthCm':'petal_width',\n",
    "                      'Species':'species'}, inplace = True\n",
    "                     )\n",
    "display(dat)"
   ]
  },
  {
   "cell_type": "markdown",
   "id": "3685043e-27c2-4db3-8aa7-c22e8d7dc9ef",
   "metadata": {},
   "source": [
    "Data Summarization:\n",
    "\n",
    "Compute the following summary statistics for each of the numerical columns (sepal_length, sepal_width, petal_length, petal_width):\n",
    "Mean\n",
    "Median\n",
    "Standard Deviation\n",
    "Write these summary statistics to a new CSV file named iris_summary.csv."
   ]
  },
  {
   "cell_type": "code",
   "execution_count": 57,
   "id": "11d16fa9-ee63-4a44-9ca8-2f7c4adc4224",
   "metadata": {
    "tags": []
   },
   "outputs": [
    {
     "data": {
      "text/plain": [
       "sepal_length    0.828066\n",
       "sepal_width     0.433594\n",
       "petal_length    1.764420\n",
       "petal_width     0.763161\n",
       "dtype: float64"
      ]
     },
     "execution_count": 57,
     "metadata": {},
     "output_type": "execute_result"
    }
   ],
   "source": [
    "# indexing but using list\n",
    "#my_cols = ['sepal_length','sepal_width', 'petal_length', 'petal_width']\n",
    "#mean_series = dat[my_cols].mean()\n",
    "#sd_series = dat[my_cols].std()\n"
   ]
  },
  {
   "cell_type": "code",
   "execution_count": 60,
   "id": "b6e6324c-31fa-4cf1-a040-3dba7dae4e24",
   "metadata": {
    "tags": []
   },
   "outputs": [
    {
     "data": {
      "text/html": [
       "<div>\n",
       "<style scoped>\n",
       "    .dataframe tbody tr th:only-of-type {\n",
       "        vertical-align: middle;\n",
       "    }\n",
       "\n",
       "    .dataframe tbody tr th {\n",
       "        vertical-align: top;\n",
       "    }\n",
       "\n",
       "    .dataframe thead th {\n",
       "        text-align: right;\n",
       "    }\n",
       "</style>\n",
       "<table border=\"1\" class=\"dataframe\">\n",
       "  <thead>\n",
       "    <tr style=\"text-align: right;\">\n",
       "      <th></th>\n",
       "      <th>mean</th>\n",
       "      <th>sd</th>\n",
       "    </tr>\n",
       "  </thead>\n",
       "  <tbody>\n",
       "    <tr>\n",
       "      <th>sepal_length</th>\n",
       "      <td>5.843333</td>\n",
       "      <td>0.828066</td>\n",
       "    </tr>\n",
       "    <tr>\n",
       "      <th>sepal_width</th>\n",
       "      <td>3.054000</td>\n",
       "      <td>0.433594</td>\n",
       "    </tr>\n",
       "    <tr>\n",
       "      <th>petal_length</th>\n",
       "      <td>3.758667</td>\n",
       "      <td>1.764420</td>\n",
       "    </tr>\n",
       "    <tr>\n",
       "      <th>petal_width</th>\n",
       "      <td>1.198667</td>\n",
       "      <td>0.763161</td>\n",
       "    </tr>\n",
       "  </tbody>\n",
       "</table>\n",
       "</div>"
      ],
      "text/plain": [
       "                  mean        sd\n",
       "sepal_length  5.843333  0.828066\n",
       "sepal_width   3.054000  0.433594\n",
       "petal_length  3.758667  1.764420\n",
       "petal_width   1.198667  0.763161"
      ]
     },
     "execution_count": 60,
     "metadata": {},
     "output_type": "execute_result"
    }
   ],
   "source": [
    "#new_dic = {'mean':dat[my_cols].mean(), \n",
    "           #'sd': dat[my_cols].std()}\n",
    "\n",
    "#test_df = pd.DataFrame(new_dic)\n",
    "#test_df"
   ]
  },
  {
   "cell_type": "code",
   "execution_count": 49,
   "id": "090c5f7a-9840-46d6-b72e-aee9264992de",
   "metadata": {
    "tags": []
   },
   "outputs": [],
   "source": [
    "### Means\n",
    "my_means = dat.mean( numeric_only = True)\n",
    "my_means.drop('Id', inplace = True)\n",
    "\n",
    "#Standard\n",
    "my_sd = dat.std(numeric_only = True)\n",
    "my_sd.drop('Id', inplace = True)\n",
    "\n",
    "### Median \n",
    "my_med = dat.median(numeric_only = True)\n",
    "my_med.drop('Id', inplace = True)"
   ]
  },
  {
   "cell_type": "code",
   "execution_count": 51,
   "id": "0b52a9fa-dfdf-4a56-9194-4de98dc347be",
   "metadata": {
    "tags": []
   },
   "outputs": [
    {
     "data": {
      "text/html": [
       "<div>\n",
       "<style scoped>\n",
       "    .dataframe tbody tr th:only-of-type {\n",
       "        vertical-align: middle;\n",
       "    }\n",
       "\n",
       "    .dataframe tbody tr th {\n",
       "        vertical-align: top;\n",
       "    }\n",
       "\n",
       "    .dataframe thead th {\n",
       "        text-align: right;\n",
       "    }\n",
       "</style>\n",
       "<table border=\"1\" class=\"dataframe\">\n",
       "  <thead>\n",
       "    <tr style=\"text-align: right;\">\n",
       "      <th></th>\n",
       "      <th>means</th>\n",
       "      <th>sd</th>\n",
       "      <th>median</th>\n",
       "    </tr>\n",
       "  </thead>\n",
       "  <tbody>\n",
       "    <tr>\n",
       "      <th>sepal_length</th>\n",
       "      <td>5.843333</td>\n",
       "      <td>0.828066</td>\n",
       "      <td>5.80</td>\n",
       "    </tr>\n",
       "    <tr>\n",
       "      <th>sepal_width</th>\n",
       "      <td>3.054000</td>\n",
       "      <td>0.433594</td>\n",
       "      <td>3.00</td>\n",
       "    </tr>\n",
       "    <tr>\n",
       "      <th>petal_length</th>\n",
       "      <td>3.758667</td>\n",
       "      <td>1.764420</td>\n",
       "      <td>4.35</td>\n",
       "    </tr>\n",
       "    <tr>\n",
       "      <th>petal_width</th>\n",
       "      <td>1.198667</td>\n",
       "      <td>0.763161</td>\n",
       "      <td>1.30</td>\n",
       "    </tr>\n",
       "  </tbody>\n",
       "</table>\n",
       "</div>"
      ],
      "text/plain": [
       "                 means        sd  median\n",
       "sepal_length  5.843333  0.828066    5.80\n",
       "sepal_width   3.054000  0.433594    3.00\n",
       "petal_length  3.758667  1.764420    4.35\n",
       "petal_width   1.198667  0.763161    1.30"
      ]
     },
     "execution_count": 51,
     "metadata": {},
     "output_type": "execute_result"
    }
   ],
   "source": [
    "### Creating Data Frame\n",
    "\n",
    "my_summ = {'means':my_means, 'sd':my_sd, 'median': my_med}  # Dictonary\n",
    "\n",
    "\n",
    "new_dat = pd.DataFrame(my_summ) # Creating dictonary into data frame\n",
    "new_dat"
   ]
  },
  {
   "cell_type": "markdown",
   "id": "0d233f96-785c-44ba-8158-fb9851e4c1f5",
   "metadata": {},
   "source": [
    "Data Visualization:  ### Use tidy dataset ###\n",
    "\n",
    "Use seaborn to create the following plots: \n",
    "a. A pair plot (pairplot) of all numerical columns colored by the species column. \n",
    "b. A box plot showing the distribution of each numerical column grouped by species."
   ]
  },
  {
   "cell_type": "code",
   "execution_count": 30,
   "id": "bb03eadd-36ef-47a0-a09c-2277e81f3a68",
   "metadata": {},
   "outputs": [
    {
     "data": {
      "text/plain": [
       "<Axes: xlabel='measurement', ylabel='value'>"
      ]
     },
     "metadata": {},
     "output_type": "display_data"
    },
    {
     "data": {
      "image/png": "[encoded data removed]",
      "text/plain": [
       "<Figure size 640x480 with 1 Axes>"
      ]
     },
     "metadata": {},
     "output_type": "display_data"
    }
   ],
   "source": [
    "iris_dat = pd.read_csv(\"./datasets/tidyiris.csv\")\n",
    "#display(iris_dat)\n",
    "\n",
    "display(ss.pairplot(iris_dat, hue = 'species'))\n",
    "display(ss.boxplot(iris_dat, y = 'value', x = 'measurement', hue = 'species'))"
   ]
  },
  {
   "cell_type": "markdown",
   "id": "7b3b6def-2875-49eb-8e09-8e03a662e7f2",
   "metadata": {},
   "source": [
    "Plotting Function\n",
    "\n",
    "Write a function that uses seaborn to visualize the iris data.\n",
    "\n",
    "Your function should:\n",
    "\n",
    "take an iris-like data frame as an input\n",
    "allow the user to choose between a strip, violin, or box plot\n",
    "set one of the above three be the default\n",
    "have a docstr with meaningful help so users can get help() on it\n",
    "produce the plot requested by the user (of course!)"
   ]
  },
  {
   "cell_type": "code",
   "execution_count": 59,
   "id": "40a9f8d3-9aa4-45b5-a225-1cf449dcc254",
   "metadata": {},
   "outputs": [],
   "source": [
    "def plot_iris(iris, plot_type = 1):\n",
    "    '''\n",
    "    \n",
    "    iris = data, plot_type = plot\n",
    "    \n",
    "    Options for plot_type:\n",
    "    1: strip plot\n",
    "    2: violin plot\n",
    "    3: box plot\n",
    "    ''' \n",
    "    import seaborn as ss\n",
    "    \n",
    "    if plot_type == 1:\n",
    "        return display(ss.stripplot(iris, x = 'measurement', y = 'value', hue = 'species'))\n",
    "    elif plot_type == 2:\n",
    "        return display(ss.violinplot(iris, x = 'measurement', y = 'value', hue = 'species'))\n",
    "    elif plot_type == 3:\n",
    "        return display(ss.boxplot(iris, x = 'measurement', y = 'value', hue = 'species'))\n",
    "    else:\n",
    "        return 'That is not a valid input'\n",
    "    \n",
    "        "
   ]
  },
  {
   "cell_type": "code",
   "execution_count": 61,
   "id": "08d292e8-f8da-4d23-ba9c-afb4e887b31c",
   "metadata": {
    "tags": []
   },
   "outputs": [
    {
     "data": {
      "text/plain": [
       "<Axes: xlabel='measurement', ylabel='value'>"
      ]
     },
     "metadata": {},
     "output_type": "display_data"
    },
    {
     "data": {
      "image/png": "[encoded data removed]",
      "text/plain": [
       "<Figure size 640x480 with 1 Axes>"
      ]
     },
     "metadata": {},
     "output_type": "display_data"
    }
   ],
   "source": [
    "#plot_iris(iris_dat)\n",
    "plot_iris(iris_dat)"
   ]
  }
 ],
 "metadata": {
  "kernelspec": {
   "display_name": "Python 3 (ipykernel)",
   "language": "python",
   "name": "python3"
  },
  "language_info": {
   "codemirror_mode": {
    "name": "ipython",
    "version": 3
   },
   "file_extension": ".py",
   "mimetype": "text/x-python",
   "name": "python",
   "nbconvert_exporter": "python",
   "pygments_lexer": "ipython3",
   "version": "3.11.4"
  }
 },
 "nbformat": 4,
 "nbformat_minor": 5
}
