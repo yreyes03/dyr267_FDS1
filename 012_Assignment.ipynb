{
 "cells": [
  {
   "cell_type": "markdown",
   "id": "ce34e770-dd0d-4019-a52a-af3f2b76346c",
   "metadata": {},
   "source": [
    "Python Programming Homework: Functions, Modules, and Namespaces"
   ]
  },
  {
   "cell_type": "markdown",
   "id": "fb77ee28-01d2-4408-899f-965c7fc4f21e",
   "metadata": {},
   "source": [
    "Function Design for Unit Conversions:\n",
    "Design and implement functions for the following conversions:\n",
    "    Miles to Kilometers and vice versa.\n",
    "    Fahrenheit to Celsius and vice versa.\n",
    "    Kilograms to Pounds and vice versa.\n",
    "    \n",
    "Each conversion should have its dedicated function. For instance, miles_to_km(), km_to_miles(), etc.\n",
    "Each function should return its answer (not just print it)."
   ]
  },
  {
   "cell_type": "code",
   "execution_count": 1,
   "id": "c00dbaf9-209b-4464-aeea-0d7ad4d2de1c",
   "metadata": {
    "tags": []
   },
   "outputs": [
    {
     "name": "stdout",
     "output_type": "stream",
     "text": [
      "You are converting from Kilometers to Miles.\n"
     ]
    },
    {
     "data": {
      "text/plain": [
       "1.8641130000000001"
      ]
     },
     "execution_count": 1,
     "metadata": {},
     "output_type": "execute_result"
    }
   ],
   "source": [
    "### Kilometers to Miles Function\n",
    "def km_to_mi():\n",
    "    print('You are converting from Kilometers to Miles.')\n",
    "    num = float(input('Please enter a number: '))\n",
    "    \n",
    "    val = num*0.621371\n",
    "\n",
    "    return val\n",
    "\n",
    "### Calling km to mi function\n",
    "km_to_mi()\n",
    "\n",
    "\n"
   ]
  },
  {
   "cell_type": "code",
   "execution_count": 2,
   "id": "a355ba00-ca0e-43a4-a42e-eac5043d6e88",
   "metadata": {},
   "outputs": [
    {
     "name": "stdout",
     "output_type": "stream",
     "text": [
      "You are converting from Miles to Kilometers.\n"
     ]
    },
    {
     "data": {
      "text/plain": [
       "4.82803349367769"
      ]
     },
     "execution_count": 2,
     "metadata": {},
     "output_type": "execute_result"
    }
   ],
   "source": [
    "### Miles to Kilometers function\n",
    "def mi_to_km():\n",
    "    print('You are converting from Miles to Kilometers.')\n",
    "    num = float(input('Please enter a number: '))\n",
    "    \n",
    "    val = num/0.621371\n",
    "\n",
    "    return val\n",
    "\n",
    "### Caling mi to km function\n",
    "mi_to_km()"
   ]
  },
  {
   "cell_type": "code",
   "execution_count": 3,
   "id": "38767669",
   "metadata": {},
   "outputs": [
    {
     "name": "stdout",
     "output_type": "stream",
     "text": [
      "You are converting from Celsius to Fahrenheit.\n"
     ]
    },
    {
     "data": {
      "text/plain": [
       "37.4"
      ]
     },
     "execution_count": 3,
     "metadata": {},
     "output_type": "execute_result"
    }
   ],
   "source": [
    "### Celsius to Fahrenheit function\n",
    "def c_to_f():\n",
    "    print('You are converting from Celsius to Fahrenheit.')\n",
    "    num = float(input('Please enter a number: '))\n",
    "    \n",
    "    val = (num * (9/5)) + 32\n",
    "\n",
    "    return val\n",
    "### Calling function\n",
    "c_to_f()"
   ]
  },
  {
   "cell_type": "code",
   "execution_count": 4,
   "id": "feaa50c9",
   "metadata": {},
   "outputs": [
    {
     "name": "stdout",
     "output_type": "stream",
     "text": [
      "You are converting from Fahrenheit to Celsius.\n"
     ]
    },
    {
     "data": {
      "text/plain": [
       "-16.11111111111111"
      ]
     },
     "execution_count": 4,
     "metadata": {},
     "output_type": "execute_result"
    }
   ],
   "source": [
    "### Fahrenheit to Celsius function\n",
    "def f_to_c():\n",
    "    print('You are converting from Fahrenheit to Celsius.')\n",
    "    num = float(input('Please enter a number: '))\n",
    "    \n",
    "    val = (num - 32) * (5/9)\n",
    "\n",
    "    return val\n",
    "### Calling function\n",
    "f_to_c()"
   ]
  },
  {
   "cell_type": "code",
   "execution_count": 5,
   "id": "509ed5f2",
   "metadata": {},
   "outputs": [
    {
     "name": "stdout",
     "output_type": "stream",
     "text": [
      "You are converting from Kilograms to Pounds.\n"
     ]
    },
    {
     "data": {
      "text/plain": [
       "6.6138"
      ]
     },
     "execution_count": 5,
     "metadata": {},
     "output_type": "execute_result"
    }
   ],
   "source": [
    "### Kilograms to Pounds function\n",
    "def kilo_to_lb():\n",
    "    print('You are converting from Kilograms to Pounds.')\n",
    "    num = float(input('Please enter a number: '))\n",
    "    \n",
    "    val = num * 2.2046\n",
    "\n",
    "    return val\n",
    "### Calling function\n",
    "kilo_to_lb()"
   ]
  },
  {
   "cell_type": "code",
   "execution_count": 6,
   "id": "ee45efee",
   "metadata": {},
   "outputs": [
    {
     "name": "stdout",
     "output_type": "stream",
     "text": [
      "You are converting from Pounds to Kilograms.\n"
     ]
    },
    {
     "data": {
      "text/plain": [
       "1.3607910732105597"
      ]
     },
     "execution_count": 6,
     "metadata": {},
     "output_type": "execute_result"
    }
   ],
   "source": [
    "### Pounds to Kilograms function\n",
    "def lb_to_kilo():\n",
    "    print('You are converting from Pounds to Kilograms.')\n",
    "    num = float(input('Please enter a number: '))\n",
    "    \n",
    "    val = num / 2.2046\n",
    "\n",
    "    return val\n",
    "### Calling function\n",
    "lb_to_kilo()"
   ]
  },
  {
   "cell_type": "markdown",
   "id": "ac9b9d57",
   "metadata": {},
   "source": [
    "Module Creation:\n",
    "Organize all the conversion functions you've created into a Python module named unit_conversions.py.\n",
    "In a separate script, import your module and demonstrate the use of each function."
   ]
  },
  {
   "cell_type": "code",
   "execution_count": 1,
   "id": "49842b75",
   "metadata": {},
   "outputs": [],
   "source": [
    "import unit_conversion2 as uc\n"
   ]
  },
  {
   "cell_type": "code",
   "execution_count": 5,
   "id": "0a41530c",
   "metadata": {},
   "outputs": [
    {
     "name": "stdout",
     "output_type": "stream",
     "text": [
      "You are converting from Kilometers to Miles.\n",
      "Please enter a number: 4\n",
      "You are converting from Miles to Kilometers.\n",
      "Please enter a number: 4\n",
      "You are converting from Celsius to Fahrenheit.\n",
      "Please enter a number: 4\n",
      "You are converting from Fahrenheit to Celsius.\n",
      "Please enter a number: 4\n",
      "You are converting from Kilograms to Pounds.\n",
      "Please enter a number: 4\n"
     ]
    },
    {
     "data": {
      "text/plain": [
       "8.8184"
      ]
     },
     "execution_count": 5,
     "metadata": {},
     "output_type": "execute_result"
    }
   ],
   "source": [
    "uc.km_to_mi()\n",
    "uc.mi_to_km()\n",
    "\n",
    "uc.c_to_f()\n",
    "uc.f_to_c()\n",
    "\n",
    "uc.kilo_to_lb()\n",
    "uc.lb_to_kilo()"
   ]
  },
  {
   "cell_type": "markdown",
   "id": "82f7c2c5",
   "metadata": {},
   "source": [
    "Namespaces\n",
    "\n",
    "    Make a module with filename \"mylen.py\"\n",
    "    add a function named len to the module\n",
    "    the function should return the number 42 no matter what\n",
    "    Create a list mylist (or whatever) with some elements in it (they can be numbers or anything)\n",
    "    Before importing you module, try a len(mylist)\n",
    "    Import mylen.py (import mylen)\n",
    "    verify that mylen.len() works as expected\n",
    "    Now do a from mylen import len\n",
    "    Finally, repeat the len(mylist)\n",
    "    \n",
    "In your own words, compare the outputs of the two len(mylest) calls. What happened? Why? What does this tell you about namespaces and the egalitarian nature of Python?"
   ]
  },
  {
   "cell_type": "code",
   "execution_count": 5,
   "id": "988d89ef",
   "metadata": {},
   "outputs": [
    {
     "ename": "TypeError",
     "evalue": "len() takes 0 positional arguments but 1 was given",
     "output_type": "error",
     "traceback": [
      "\u001b[1;31m---------------------------------------------------------------------------\u001b[0m",
      "\u001b[1;31mTypeError\u001b[0m                                 Traceback (most recent call last)",
      "Cell \u001b[1;32mIn[5], line 9\u001b[0m\n\u001b[0;32m      6\u001b[0m mylen\u001b[38;5;241m.\u001b[39mlen()\n\u001b[0;32m      8\u001b[0m \u001b[38;5;28;01mfrom\u001b[39;00m \u001b[38;5;21;01mmylen\u001b[39;00m \u001b[38;5;28;01mimport\u001b[39;00m \u001b[38;5;28mlen\u001b[39m\n\u001b[1;32m----> 9\u001b[0m \u001b[38;5;28mlen\u001b[39m(mylist)\n",
      "\u001b[1;31mTypeError\u001b[0m: len() takes 0 positional arguments but 1 was given"
     ]
    }
   ],
   "source": [
    "mylist = [2, 'f', 8, 10]\n",
    "len(mylist)\n",
    "\n",
    "import mylen\n",
    "\n",
    "mylen.len()\n",
    "\n",
    "from mylen import len\n",
    "len(mylist)"
   ]
  },
  {
   "cell_type": "markdown",
   "id": "2e9d9eed",
   "metadata": {},
   "source": [
    "The first time I did len(mylist) Python returned the lenght of the list but the second time it gave me an error staing that len() doesn't take any arguments. This tells us that by creating functions with the same name as already established fucntions, we over"
   ]
  }
 ],
 "metadata": {
  "kernelspec": {
   "display_name": "Python 3 (ipykernel)",
   "language": "python",
   "name": "python3"
  },
  "language_info": {
   "codemirror_mode": {
    "name": "ipython",
    "version": 3
   },
   "file_extension": ".py",
   "mimetype": "text/x-python",
   "name": "python",
   "nbconvert_exporter": "python",
   "pygments_lexer": "ipython3",
   "version": "3.11.4"
  }
 },
 "nbformat": 4,
 "nbformat_minor": 5
}
