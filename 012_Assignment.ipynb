{
 "cells": [
  {
   "cell_type": "markdown",
   "id": "ce34e770-dd0d-4019-a52a-af3f2b76346c",
   "metadata": {},
   "source": [
    "Python Programming Homework: Functions, Modules, and Namespaces"
   ]
  },
  {
   "cell_type": "markdown",
   "id": "fb77ee28-01d2-4408-899f-965c7fc4f21e",
   "metadata": {},
   "source": [
    "Function Design for Unit Conversions:\n",
    "Design and implement functions for the following conversions:\n",
    "    Miles to Kilometers and vice versa.\n",
    "    Fahrenheit to Celsius and vice versa.\n",
    "    Kilograms to Pounds and vice versa.\n",
    "    \n",
    "Each conversion should have its dedicated function. For instance, miles_to_km(), km_to_miles(), etc.\n",
    "Each function should return its answer (not just print it)."
   ]
  },
  {
   "cell_type": "code",
   "execution_count": 17,
   "id": "c00dbaf9-209b-4464-aeea-0d7ad4d2de1c",
   "metadata": {
    "tags": []
   },
   "outputs": [
    {
     "name": "stdout",
     "output_type": "stream",
     "text": [
      "You are converting from Kilometers to Miles\n"
     ]
    },
    {
     "data": {
      "text/plain": [
       "3.106855"
      ]
     },
     "execution_count": 17,
     "metadata": {},
     "output_type": "execute_result"
    }
   ],
   "source": [
    "### Kilometers to Miles Function\n",
    "def km_to_mi():\n",
    "    print('You are converting from Kilometers to Miles.')\n",
    "    num = float(input('Please enter a number: '))\n",
    "    \n",
    "    val = num*0.621371\n",
    "\n",
    "    return val\n",
    "\n",
    "### Calling km to mi function\n",
    "km_to_mi()\n",
    "\n",
    "\n"
   ]
  },
  {
   "cell_type": "code",
   "execution_count": 19,
   "id": "a355ba00-ca0e-43a4-a42e-eac5043d6e88",
   "metadata": {},
   "outputs": [
    {
     "name": "stdout",
     "output_type": "stream",
     "text": [
      "You are converting from Miles to Kilometers\n"
     ]
    },
    {
     "data": {
      "text/plain": [
       "8.046722489462816"
      ]
     },
     "execution_count": 19,
     "metadata": {},
     "output_type": "execute_result"
    }
   ],
   "source": [
    "### Miles to Kilometers function\n",
    "def mi_to_km():\n",
    "    print('You are converting from Miles to Kilometers.')\n",
    "    num = float(input('Please enter a number: '))\n",
    "    \n",
    "    val = num/0.621371\n",
    "\n",
    "    return val\n",
    "\n",
    "### Caling mi to km function\n",
    "mi_to_km()"
   ]
  },
  {
   "cell_type": "code",
   "execution_count": 21,
   "id": "38767669",
   "metadata": {},
   "outputs": [
    {
     "name": "stdout",
     "output_type": "stream",
     "text": [
      "You are converting from Celsius to Fahrenheit.\n"
     ]
    },
    {
     "data": {
      "text/plain": [
       "41.0"
      ]
     },
     "execution_count": 21,
     "metadata": {},
     "output_type": "execute_result"
    }
   ],
   "source": [
    "### Celsius to Fahrenheit function\n",
    "def c_to_f():\n",
    "    print('You are converting from Celsius to Fahrenheit.')\n",
    "    num = float(input('Please enter a number: '))\n",
    "    \n",
    "    val = (num * (9/5)) + 32\n",
    "\n",
    "    return val\n",
    "### Calling function\n",
    "c_to_f()"
   ]
  },
  {
   "cell_type": "code",
   "execution_count": 23,
   "id": "feaa50c9",
   "metadata": {},
   "outputs": [
    {
     "name": "stdout",
     "output_type": "stream",
     "text": [
      "You are converting from Fahrenheit to Celsius.\n"
     ]
    },
    {
     "data": {
      "text/plain": [
       "-15.0"
      ]
     },
     "execution_count": 23,
     "metadata": {},
     "output_type": "execute_result"
    }
   ],
   "source": [
    "### Fahrenheit to Celsius function\n",
    "def f_to_c():\n",
    "    print('You are converting from Fahrenheit to Celsius.')\n",
    "    num = float(input('Please enter a number: '))\n",
    "    \n",
    "    val = (num - 32) * (5/9)\n",
    "\n",
    "    return val\n",
    "### Calling function\n",
    "f_to_c()"
   ]
  },
  {
   "cell_type": "code",
   "execution_count": 25,
   "id": "509ed5f2",
   "metadata": {},
   "outputs": [
    {
     "name": "stdout",
     "output_type": "stream",
     "text": [
      "You are converting from Kilograms to Pounds.\n"
     ]
    },
    {
     "data": {
      "text/plain": [
       "11.023"
      ]
     },
     "execution_count": 25,
     "metadata": {},
     "output_type": "execute_result"
    }
   ],
   "source": [
    "### Kilograms to Pounds function\n",
    "def kilo_to_lb():\n",
    "    print('You are converting from Kilograms to Pounds.')\n",
    "    num = float(input('Please enter a number: '))\n",
    "    \n",
    "    val = num * 2.2046\n",
    "\n",
    "    return val\n",
    "### Calling function\n",
    "kilo_to_lb()"
   ]
  },
  {
   "cell_type": "code",
   "execution_count": 26,
   "id": "ee45efee",
   "metadata": {},
   "outputs": [
    {
     "name": "stdout",
     "output_type": "stream",
     "text": [
      "You are converting from Pounds to Kilograms.\n"
     ]
    },
    {
     "data": {
      "text/plain": [
       "2.2679851220175995"
      ]
     },
     "execution_count": 26,
     "metadata": {},
     "output_type": "execute_result"
    }
   ],
   "source": [
    "### Pounds to Kilograms function\n",
    "def lb_to_kilo():\n",
    "    print('You are converting from Pounds to Kilograms.')\n",
    "    num = float(input('Please enter a number: '))\n",
    "    \n",
    "    val = num / 2.2046\n",
    "\n",
    "    return val\n",
    "### Calling function\n",
    "lb_to_kilo()"
   ]
  },
  {
   "cell_type": "markdown",
   "id": "ac9b9d57",
   "metadata": {},
   "source": [
    "Module Creation:\n",
    "Organize all the conversion functions you've created into a Python module named unit_conversions.py.\n",
    "In a separate script, import your module and demonstrate the use of each function."
   ]
  }
 ],
 "metadata": {
  "kernelspec": {
   "display_name": "Python 3 (ipykernel)",
   "language": "python",
   "name": "python3"
  },
  "language_info": {
   "codemirror_mode": {
    "name": "ipython",
    "version": 3
   },
   "file_extension": ".py",
   "mimetype": "text/x-python",
   "name": "python",
   "nbconvert_exporter": "python",
   "pygments_lexer": "ipython3",
   "version": "3.11.1"
  }
 },
 "nbformat": 4,
 "nbformat_minor": 5
}
