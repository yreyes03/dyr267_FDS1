{
 "cells": [
  {
   "cell_type": "code",
   "execution_count": null,
   "id": "298ca6dd-7d87-48d6-8de6-b8957a79ab52",
   "metadata": {},
   "outputs": [],
   "source": [
    "Part A: Slicing"
   ]
  },
  {
   "cell_type": "code",
   "execution_count": null,
   "id": "b2d8deea-933c-4eec-b441-694bcb23e683",
   "metadata": {},
   "outputs": [],
   "source": [
    "Strings:\n",
    "\n",
    "Given the string s = \"ProgrammingIsFun\", \n",
    "Extract and print the substring \"Program\".\n",
    "Extract and print the substring \"Fun\".\n",
    "Extract and print every 3rd character of the string."
   ]
  },
  {
   "cell_type": "code",
   "execution_count": 17,
   "id": "46c605ca-eda9-4868-a351-5bfdedf259b0",
   "metadata": {
    "tags": []
   },
   "outputs": [
    {
     "name": "stdout",
     "output_type": "stream",
     "text": [
      "Program\n",
      "Fun\n",
      "Pgmnsn\n"
     ]
    }
   ],
   "source": [
    "s = \"ProgrammingIsFun\"\n",
    "\n",
    "print(s[0:7])\n",
    "\n",
    "#print(s)\n",
    "print(s[13:16])    \n",
    "#s[-1]\n",
    "\n",
    "print(s[::3])"
   ]
  },
  {
   "cell_type": "markdown",
   "id": "21427962-67e1-40f6-8856-20cf431122ef",
   "metadata": {},
   "source": [
    "Lists:\n",
    "\n",
    "Given the list lst = [10, 20, 30, 40, 50, 60, 70, 80]:\n",
    "Extract and print the first 3 elements.\n",
    "Extract and print the last 2 elements.\n",
    "Extract and print the elements from index 3 to 6 (inclusive).\n",
    "Extract and print every 2nd element from the list.\n",
    "Extract and print every 2nd element starting from the end of the list."
   ]
  },
  {
   "cell_type": "code",
   "execution_count": 5,
   "id": "3a8f6e3c-93b7-4d70-adc0-21a4af3b3a76",
   "metadata": {
    "tags": []
   },
   "outputs": [
    {
     "name": "stdout",
     "output_type": "stream",
     "text": [
      "[10, 20, 30]\n",
      "[70, 80]\n",
      "[40, 50, 60, 70]\n",
      "[20, 40, 60, 80]\n",
      "[80, 60, 40, 20]\n"
     ]
    }
   ],
   "source": [
    "lst = [10, 20, 30, 40, 50, 60, 70, 80]\n",
    "\n",
    "#print(lst)\n",
    "print(lst[0:3])\n",
    "print(lst[6:8])\n",
    "print(lst[3:7])\n",
    "print(lst[1::2])\n",
    "'''revlst = lst.copy()\n",
    "revlst.reverse()\n",
    "#print(revlst)\n",
    "print(revlst[::2])'''\n",
    "\n",
    "print(lst[::-2])"
   ]
  },
  {
   "cell_type": "markdown",
   "id": "fedca873-bf1b-4aa1-bd9f-ab6c72a73fc5",
   "metadata": {},
   "source": [
    "Tuples:\n",
    "\n",
    "Given the tuple tup = (5, 10, 15, 20, 25, 30, 35, 40):\n",
    "Extract and print the second element.\n",
    "Extract and print the last 3 elements.\n",
    "Extract and print the elements from index 2 to 5 (exclusive)."
   ]
  },
  {
   "cell_type": "code",
   "execution_count": 49,
   "id": "b32e4ac1-7783-4bf9-8d87-a1868347bee5",
   "metadata": {
    "tags": []
   },
   "outputs": [
    {
     "name": "stdout",
     "output_type": "stream",
     "text": [
      "10\n",
      "(30, 35, 40)\n",
      "(15, 20, 25, 30)\n"
     ]
    }
   ],
   "source": [
    "tup = (5, 10, 15, 20, 25, 30, 35, 40)\n",
    "\n",
    "print(tup[1])\n",
    "print(tup[5:len(tup)])\n",
    "print(tup[2:6])"
   ]
  },
  {
   "cell_type": "code",
   "execution_count": null,
   "id": "cb56219c-0b3d-4406-b7df-4d9943478175",
   "metadata": {},
   "outputs": [],
   "source": [
    "Part B: Methods of Data Structures"
   ]
  },
  {
   "cell_type": "code",
   "execution_count": null,
   "id": "163044ff-30c1-4bca-8991-9c0861c2f153",
   "metadata": {},
   "outputs": [],
   "source": [
    "Strings:\n",
    "\n",
    "Find and print the index of the first occurrence of the substring \"ming\" in s.\n",
    "Convert the string s to lowercase and print the result.\n",
    "Replace the substring \"Fun\" in s with \"Amazing\" and print the result."
   ]
  },
  {
   "cell_type": "code",
   "execution_count": 54,
   "id": "8d143b09-6ee9-4f51-9095-a9deae769fc4",
   "metadata": {
    "tags": []
   },
   "outputs": [
    {
     "name": "stdout",
     "output_type": "stream",
     "text": [
      "7\n",
      "programmingisfun\n",
      "ProgrammingIsAmazing\n"
     ]
    }
   ],
   "source": [
    "s = \"ProgrammingIsFun\"\n",
    "\n",
    "print(s.index('ming'))\n",
    "print(s.lower())\n",
    "print(s.replace('Fun', 'Amazing'))"
   ]
  },
  {
   "cell_type": "code",
   "execution_count": null,
   "id": "452aa549-8cfa-473f-9166-6b149db88a9b",
   "metadata": {},
   "outputs": [],
   "source": [
    "Lists:\n",
    "\n",
    "Add the elements 90 and 100 to the end of lst and print the updated list.\n",
    "Remove the second element from lst and print the updated list.\n",
    "Reverse the order of elements in lst and print the updated list.\n",
    "Find and print the index of element 50 in lst."
   ]
  },
  {
   "cell_type": "code",
   "execution_count": 75,
   "id": "895106ac-da1c-4723-9b4e-0738cb38ab28",
   "metadata": {
    "tags": []
   },
   "outputs": [
    {
     "name": "stdout",
     "output_type": "stream",
     "text": [
      "[10, 20, 30, 40, 50, 60, 70, 80, 90, 100]\n",
      "[10, 30, 40, 50, 60, 70, 80, 90, 100]\n",
      "[100, 90, 80, 70, 60, 50, 40, 30, 10]\n"
     ]
    },
    {
     "data": {
      "text/plain": [
       "5"
      ]
     },
     "execution_count": 75,
     "metadata": {},
     "output_type": "execute_result"
    }
   ],
   "source": [
    "lst = [10, 20, 30, 40, 50, 60, 70, 80]\n",
    "lst.extend([90, 100])\n",
    "print(lst)\n",
    "\n",
    "lst.remove(lst[1])\n",
    "print(lst)\n",
    "\n",
    "lst.reverse()\n",
    "print(lst)\n",
    "\n",
    "lst.index(50)"
   ]
  },
  {
   "cell_type": "code",
   "execution_count": null,
   "id": "852db098-2469-41e5-877f-2dcd6c4ecf0b",
   "metadata": {},
   "outputs": [],
   "source": [
    "Tuples:\n",
    "\n",
    "Count and print the number of occurrences of 20 in tup.\n",
    "Convert tup into a list, add the number 45 at its end, then convert it back to a tuple. Print the new tuple."
   ]
  },
  {
   "cell_type": "code",
   "execution_count": 4,
   "id": "90003e97-5e98-49a6-afa4-b8ac5c842d06",
   "metadata": {
    "tags": []
   },
   "outputs": [
    {
     "name": "stdout",
     "output_type": "stream",
     "text": [
      "1\n",
      "(5, 10, 15, 20, 25, 30, 35, 40, 45)\n"
     ]
    }
   ],
   "source": [
    "tup = (5, 10, 15, 20, 25, 30, 35, 40)\n",
    "\n",
    "#print(type(tup))\n",
    "print(tup.count(20))\n",
    "\n",
    "nlist = list(tup)\n",
    "#type(nlist)\n",
    "nlist.append(45)\n",
    "tup = tuple(nlist)\n",
    "#type(tup)\n",
    "print(tup)"
   ]
  },
  {
   "cell_type": "markdown",
   "id": "0fb8211b-6798-4ffc-8834-871d5e62653d",
   "metadata": {},
   "source": [
    "Dictionaries:\n",
    "\n",
    "Given the dictionary S_Doo_ = {\"Scooby\": 4, \"Shaggy\": 19, \"Velma\": 18, \"Daphne\": 20}\n",
    "Add a new key-value pair: \"Phred\": 21 and print the updated dictionary.\n",
    "Retrieve and print the age of \"Velma\".\n",
    "Remove \"Scooby\" and his age from the dictionary and print the updated dictionary.\n",
    "Print all the keys in the dictionary.\n",
    "Print all the values in the dictionary."
   ]
  },
  {
   "cell_type": "code",
   "execution_count": 98,
   "id": "76d9667d-4321-4234-aa65-484778ba0a8a",
   "metadata": {
    "tags": []
   },
   "outputs": [
    {
     "name": "stdout",
     "output_type": "stream",
     "text": [
      "{'Scooby': 4, 'Shaggy': 19, 'Velma': 18, 'Daphne': 20, 'Phred': 21}\n",
      "18\n",
      "{'Shaggy': 19, 'Velma': 18, 'Daphne': 20, 'Phred': 21}\n",
      "dict_keys(['Shaggy', 'Velma', 'Daphne', 'Phred'])\n",
      "dict_values([19, 18, 20, 21])\n"
     ]
    }
   ],
   "source": [
    "S_Doo_ = {\"Scooby\": 4, \"Shaggy\": 19, \"Velma\": 18, \"Daphne\": 20}\n",
    "\n",
    "S_Doo_['Phred'] = 21\n",
    "print(S_Doo_)\n",
    "\n",
    "print(S_Doo_['Velma'])\n",
    "\n",
    "del S_Doo_['Scooby']\n",
    "print(S_Doo_)\n",
    "\n",
    "print(S_Doo_.keys())\n",
    "\n",
    "print(S_Doo_.values())"
   ]
  },
  {
   "cell_type": "code",
   "execution_count": null,
   "id": "427eb712-1951-4323-a1a4-933194553d93",
   "metadata": {},
   "outputs": [],
   "source": [
    "Bonus:\n",
    "Make and print a list of the keys in the Scooby dictionary using the output of .keys()."
   ]
  },
  {
   "cell_type": "code",
   "execution_count": 103,
   "id": "185caf97-910f-4061-9b4d-c581678cc576",
   "metadata": {
    "tags": []
   },
   "outputs": [
    {
     "data": {
      "text/plain": [
       "['Shaggy', 'Velma', 'Daphne', 'Phred']"
      ]
     },
     "execution_count": 103,
     "metadata": {},
     "output_type": "execute_result"
    }
   ],
   "source": [
    "slst = list(S_Doo_.keys())\n",
    "type(slst)\n",
    "slst"
   ]
  }
 ],
 "metadata": {
  "kernelspec": {
   "display_name": "Python 3 (ipykernel)",
   "language": "python",
   "name": "python3"
  },
  "language_info": {
   "codemirror_mode": {
    "name": "ipython",
    "version": 3
   },
   "file_extension": ".py",
   "mimetype": "text/x-python",
   "name": "python",
   "nbconvert_exporter": "python",
   "pygments_lexer": "ipython3",
   "version": "3.11.4"
  }
 },
 "nbformat": 4,
 "nbformat_minor": 5
}
