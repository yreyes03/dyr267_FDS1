{
 "cells": [
  {
   "cell_type": "markdown",
   "id": "804e91de-6269-4a3a-ac3a-d36860158fa6",
   "metadata": {},
   "source": [
    "Homework Assignment: Control Structures\n",
    "\n",
    "Objective: To gain hands-on experience with if statements and while loops in Python."
   ]
  },
  {
   "cell_type": "markdown",
   "id": "9538f57d-cf35-4300-8919-371dbfc2c824",
   "metadata": {},
   "source": [
    "0. Logic:\n",
    "\n",
    "a) Write come code that determines whether either of the letters in test_strs = [“y”, “o”] are in the string comp_str = “Hello World!”."
   ]
  },
  {
   "cell_type": "code",
   "execution_count": 1,
   "id": "96712274-ed9e-4442-8e6d-aa1fe4f41d09",
   "metadata": {
    "tags": []
   },
   "outputs": [
    {
     "name": "stdout",
     "output_type": "stream",
     "text": [
      "Yes\n"
     ]
    },
    {
     "data": {
      "text/plain": [
       "\"if 'y' in comp_str or 'o' in comp_str:\\n    print(True)\\nelse:\\n    print(False)\""
      ]
     },
     "execution_count": 1,
     "metadata": {},
     "output_type": "execute_result"
    }
   ],
   "source": [
    "test_strs = ['y', 'o'] \n",
    "comp_str = 'Hello World!' \n",
    "\n",
    "if ((test_strs[0] in comp_str) or (test_strs[1] in comp_str)) :\n",
    "    print('Yes') \n",
    "else : \n",
    "    print('No') \n",
    "\n",
    "'''if 'y' in comp_str or 'o' in comp_str:\n",
    "    print(True)\n",
    "else:\n",
    "    print(False)''' "
   ]
  },
  {
   "cell_type": "markdown",
   "id": "9065613b-08df-4eb7-8c07-65421be401e4",
   "metadata": {
    "tags": []
   },
   "source": [
    "b) In logic and computing there is a comparison called an “exclusive or” or “xor”. An xor test produces True(or 1) only when one but not both of its inputs are True. Note that this is different than an or, which yields True if either input is true. Write a line of code that performs an xor on two Boolean variables, a and b, using the tests we know about: and, or, and not. Test you code for all four possible combinations of a and b."
   ]
  },
  {
   "cell_type": "code",
   "execution_count": null,
   "id": "70dcf027-749a-4d90-a637-c05757db5847",
   "metadata": {
    "tags": []
   },
   "outputs": [
    {
     "data": {
      "text/plain": [
       "False"
      ]
     },
     "execution_count": 30,
     "metadata": {},
     "output_type": "execute_result"
    }
   ],
   "source": [
    "a = True\n",
    "b = True\n",
    "a ^ b"
   ]
  },
  {
   "cell_type": "markdown",
   "id": "8cdc9120-f27e-48c4-b0a0-550ad319cff7",
   "metadata": {},
   "source": [
    "1. Age Category:\n",
    "\n",
    "Write a program that:\n",
    "\n",
    "a) Asks the user to input their age.\n",
    "b) Based on the age, classifies them into one of the following categories:\n",
    "\n",
    "Infant (0-2 years)\n",
    "Child (3-12 years)\n",
    "Teenager (13-19 years)\n",
    "Adult (20-64 years)\n",
    "Senior (65 years and above)\n",
    "Hint: Use the if-elif-else structure."
   ]
  },
  {
   "cell_type": "code",
   "execution_count": null,
   "id": "ba3bf3c2-06a8-4fdb-9610-b4550e7fbf08",
   "metadata": {
    "tags": []
   },
   "outputs": [
    {
     "name": "stdout",
     "output_type": "stream",
     "text": [
      "How old are you?:  3\n"
     ]
    },
    {
     "name": "stdout",
     "output_type": "stream",
     "text": [
      "You are a child.\n"
     ]
    }
   ],
   "source": [
    "age = float(input('How old are you?: '))\n",
    "\n",
    "if age <= 2:\n",
    "    clas = 'an infant.'\n",
    "elif age >= 3 and age <= 12:\n",
    "    clas = 'a child.'\n",
    "elif age >= 13 and age <= 19:\n",
    "    clas = 'a teenager.'\n",
    "elif age >= 20 and age <= 64:\n",
    "    clas = 'an adult.'\n",
    "elif age > 64:\n",
    "    clas = 'a senior.'\n",
    "    \n",
    "print('You are', clas)\n",
    "    "
   ]
  },
  {
   "cell_type": "markdown",
   "id": "a31f44d8-ab5f-4e5e-b1b2-dbee163fc7e4",
   "metadata": {},
   "source": [
    "2. Number Classifier:\n",
    "\n",
    "Ask the user to input a number. Write a program to:\n",
    "\n",
    "a) Check if the number is positive, negative, or zero.\n",
    "b) Check if the number is even or odd.\n",
    "\n",
    "Sample output: “Your number, 42, is positive and even.\""
   ]
  },
  {
   "cell_type": "code",
   "execution_count": null,
   "id": "2b051cda-386a-4e80-a75b-af7cd6b3b359",
   "metadata": {
    "tags": []
   },
   "outputs": [
    {
     "name": "stdout",
     "output_type": "stream",
     "text": [
      "Type a number -9\n"
     ]
    },
    {
     "name": "stdout",
     "output_type": "stream",
     "text": [
      "Your number, -9, is negative and odd\n"
     ]
    }
   ],
   "source": [
    "num = int(input('Type a number'))\n",
    "\n",
    "if num < 0:\n",
    "    sign = 'negative'\n",
    "elif num == 0:\n",
    "    sign = 'zero'\n",
    "else: \n",
    "    sign = 'positive'\n",
    "    \n",
    "if num%2 == 0:\n",
    "    t = 'even'\n",
    "else:\n",
    "    t = 'odd'\n",
    "    \n",
    "print('Your number, ', num, ', is ', sign, ' and ', t, sep = '')"
   ]
  },
  {
   "cell_type": "markdown",
   "id": "2e0d067e-dbdd-4e90-8c4c-6b1a345f3a1c",
   "metadata": {},
   "source": [
    "3. Simple Calculator:\n",
    "\n",
    "Design a calculator that can perform addition, subtraction, multiplication, and division. The program should:\n",
    "\n",
    "a) Ask the user to input two numbers.\n",
    "b) Ask the user to select an operation.\n",
    "c) Perform the selected operation on the two numbers and display the result.\n",
    "\n",
    "Make sure to handle invalid operations with an appropriate error message."
   ]
  },
  {
   "cell_type": "code",
   "execution_count": null,
   "id": "ca703b18-64bf-4be7-8939-7d6a9bd2c9be",
   "metadata": {
    "tags": []
   },
   "outputs": [
    {
     "name": "stdout",
     "output_type": "stream",
     "text": [
      "Please enter the first number:  5\n",
      "Please enter the second number:  6\n",
      "Please enter the operation you would like to perform:  h\n"
     ]
    },
    {
     "name": "stdout",
     "output_type": "stream",
     "text": [
      "That is not a valid operation.\n"
     ]
    }
   ],
   "source": [
    "num1 = float(input('Please enter the first number: '))\n",
    "num2 = float(input('Please enter the second number: '))\n",
    "op = input('Please enter the operation you would like to perform: ')\n",
    "\n",
    "if op == '+':\n",
    "    print(num1 + num2)\n",
    "elif op == '-':\n",
    "    print(num1 - num2)\n",
    "elif op == '/':\n",
    "    print(num1 / num2)\n",
    "elif op == '*' or op == 'x':\n",
    "    print(num1*num2)\n",
    "else:\n",
    "    print('That is not a valid operation.')"
   ]
  },
  {
   "cell_type": "markdown",
   "id": "382d786e-e296-4dcf-9ca7-985e453206df",
   "metadata": {},
   "source": [
    "a) The program should produce a random answer between 1 and 10.\n",
    "\n",
    "- use `import random` (we only have to do this once, at the top of the program)\n",
    "- then `answer = random.randint()` to get the random answer\n",
    "b) Ask the user to guess the number.\n",
    "c) Provide hints like \"Too High\" or \"Too Low\" based on the user's guess.\n",
    "d) The user should have some maximum number of attempts.\n",
    "e) After the maximum number of incorrect attempts or if the user guesses correctly, reveal the correct number."
   ]
  },
  {
   "cell_type": "code",
   "execution_count": null,
   "id": "dbc744e4-b9e7-42ad-ad56-e9a3de9e86f6",
   "metadata": {
    "tags": []
   },
   "outputs": [
    {
     "name": "stdout",
     "output_type": "stream",
     "text": [
      "Guess a number between 1 and 10:  5\n"
     ]
    },
    {
     "name": "stdout",
     "output_type": "stream",
     "text": [
      "Your guess is too low\n"
     ]
    },
    {
     "name": "stdout",
     "output_type": "stream",
     "text": [
      "Guess a number between 1 and 10:  8\n"
     ]
    },
    {
     "name": "stdout",
     "output_type": "stream",
     "text": [
      "Your guess is too high\n"
     ]
    },
    {
     "name": "stdout",
     "output_type": "stream",
     "text": [
      "Guess a number between 1 and 10:  7\n"
     ]
    },
    {
     "name": "stdout",
     "output_type": "stream",
     "text": [
      "That's the correct number!\n",
      "The correct answer is 7\n"
     ]
    }
   ],
   "source": [
    "import random\n",
    "\n",
    "ans = random.randint(1,10)\n",
    "guess = int(input(\"Guess a number between 1 and 10: \"))\n",
    "num_g = 0\n",
    "\n",
    "''''if guess == ans:    \n",
    "    print(\"That's the correct number!\")\n",
    "else:\n",
    "    while num_g < 4 :\n",
    "    \n",
    "        if guess > ans:\n",
    "            print('Your guess is too high')\n",
    "            guess = int(input(\"Guess a number between 1 and 10: \"))\n",
    "            num_g += 1\n",
    "        elif guess < ans:\n",
    "            print('Your guess is too low')\n",
    "            guess = int(input(\"Guess a number between 1 and 10: \"))\n",
    "            num_g += 1\n",
    "        elif guess == ans:\n",
    "            print(\"That's the correct number!\")\n",
    "            num_g = 5'''\n",
    "        \n",
    "if guess != ans:\n",
    "    while num_g < 4:\n",
    "        if guess > ans:\n",
    "            print('Your guess is too high')\n",
    "            guess = int(input(\"Guess a number between 1 and 10: \"))\n",
    "            num_g += 1\n",
    "        elif guess < ans:\n",
    "            print('Your guess is too low')\n",
    "            guess = int(input(\"Guess a number between 1 and 10: \"))\n",
    "            num_g += 1\n",
    "        elif guess == ans:\n",
    "            break\n",
    "            \n",
    "            \n",
    "    if num_g > 3:\n",
    "        print('You have run out of number of guesses!')\n",
    "    else:    \n",
    "        print(\"That's the correct number!\")\n",
    "        \n",
    "    \n",
    "        \n",
    "\n",
    "    \n",
    "\n",
    "#'''print('You have run out of number of guesses!')\n",
    "print('The correct answer is', ans)"
   ]
  },
  {
   "cell_type": "markdown",
   "id": "7e73bf19-8093-4402-9a8c-3b8b4167ab3b",
   "metadata": {},
   "source": [
    "5. Counter Contrast:\n",
    "\n",
    "Write two versions of a program that asks the user for a positive integer n and then prints the numbers from 1 up to n.\n",
    "\n",
    "a) First, use a for loop.\n",
    "b) Next, use a while loop.\n",
    "\n",
    "Which loop structure do you prefer in this context, and why? For this task it is easier to use a for loop since it iterates through the numbers easily. "
   ]
  },
  {
   "cell_type": "code",
   "execution_count": 8,
   "id": "cb76ba03-e332-470a-924a-67793092aa63",
   "metadata": {
    "tags": []
   },
   "outputs": [
    {
     "name": "stdout",
     "output_type": "stream",
     "text": [
      "0\n",
      "1\n",
      "2\n",
      "3\n",
      "4\n",
      "5\n"
     ]
    }
   ],
   "source": [
    "#FOR LOOP VERSION\n",
    "\n",
    "num = int(input('Type a positve number: '))\n",
    "\n",
    "for i in range(num+1):\n",
    "    print(i)"
   ]
  },
  {
   "cell_type": "code",
   "execution_count": 12,
   "id": "9919678f-306b-4099-a04a-fc9a4a1ef5c8",
   "metadata": {
    "tags": []
   },
   "outputs": [
    {
     "name": "stdout",
     "output_type": "stream",
     "text": [
      "0\n",
      "1\n",
      "2\n",
      "3\n",
      "4\n",
      "5\n"
     ]
    }
   ],
   "source": [
    "#WHILE LOOP VERSION\n",
    "\n",
    "num = int(input('Type a positve number: '))\n",
    "ls = list(range(num + 1)) \n",
    " \n",
    "\n",
    "while len(ls) != 0:\n",
    "    print(ls[0])\n",
    "    ls.pop(0)\n",
    "\n"
   ]
  },
  {
   "cell_type": "markdown",
   "id": "a51b122c",
   "metadata": {},
   "source": [
    "6. Multiplication Table:\n",
    "\n",
    "Write a program that:\n",
    "\n",
    "a) Asks the user for a number n.\n",
    "b) Generates and prints the multiplication table for the number up to 10.\n",
    "\n",
    "For example, if the user inputs 5, the output should be:\n",
    "\n",
    "5 x 1 = 5\n",
    "5 x 2 = 10\n",
    "...\n",
    "5 x 10 = 50\n",
    "Implement this twice:\n",
    "a) Using a for loop.\n",
    "b) Using a while loop.\n",
    "\n",
    "Which loop structure do you think is better in this context, and why? For this task it was easier for me to use a foor loop since I dind't have to create a list like I did for the while loop."
   ]
  },
  {
   "cell_type": "code",
   "execution_count": 10,
   "id": "18ccb295",
   "metadata": {},
   "outputs": [
    {
     "name": "stdout",
     "output_type": "stream",
     "text": [
      "5 x 0 = 0\n",
      "5 x 1 = 5\n",
      "5 x 2 = 10\n",
      "5 x 3 = 15\n",
      "5 x 4 = 20\n",
      "5 x 5 = 25\n",
      "5 x 6 = 30\n",
      "5 x 7 = 35\n",
      "5 x 8 = 40\n",
      "5 x 9 = 45\n",
      "5 x 10 = 50\n"
     ]
    }
   ],
   "source": [
    "#FOR LOOP VERSION\n",
    "num = int(input('Please enter a number: '))\n",
    "\n",
    "for i in range(11):\n",
    "    print(num, 'x', i, '=', num*i)\n",
    "\n",
    "    "
   ]
  },
  {
   "cell_type": "code",
   "execution_count": 11,
   "id": "b78b8679",
   "metadata": {},
   "outputs": [
    {
     "name": "stdout",
     "output_type": "stream",
     "text": [
      "5 x 0 = 0\n",
      "5 x 1 = 5\n",
      "5 x 2 = 10\n",
      "5 x 3 = 15\n",
      "5 x 4 = 20\n",
      "5 x 5 = 25\n",
      "5 x 6 = 30\n",
      "5 x 7 = 35\n",
      "5 x 8 = 40\n",
      "5 x 9 = 45\n",
      "5 x 10 = 50\n"
     ]
    }
   ],
   "source": [
    "#WHILE LOOP VERSION\n",
    "num = int(input('Please enter a number: '))\n",
    "ls = list(range(11)) \n",
    "\n",
    "while len(ls) != 0:\n",
    "    print(num, 'x', ls[0], '=', num*ls[0])\n",
    "    ls.pop(0)"
   ]
  },
  {
   "cell_type": "markdown",
   "id": "2064b660",
   "metadata": {},
   "source": [
    "Think about writing a program for which the user must enter a positive number. If they don't, the program should prompt them again until they do.\n",
    "\n",
    "Would you use a for loop or a while loop to do this? Why? Using a while loop would be better since the loop can keep asking the user for an input until the condition is met."
   ]
  },
  {
   "cell_type": "code",
   "execution_count": 16,
   "id": "c0affd3f",
   "metadata": {},
   "outputs": [
    {
     "name": "stdout",
     "output_type": "stream",
     "text": [
      "This number is not positve, try again.\n",
      "That number is positive, thank you!\n"
     ]
    }
   ],
   "source": [
    "num = int(input('Please enter a positive number: '))\n",
    "\n",
    "while num < 1:\n",
    "    print('This number is not positve, try again.')\n",
    "    num = int(input('Please enter a positive number: '))\n",
    "print('That number is positive, thank you!')"
   ]
  }
 ],
 "metadata": {
  "kernelspec": {
   "display_name": "Python 3 (ipykernel)",
   "language": "python",
   "name": "python3"
  },
  "language_info": {
   "codemirror_mode": {
    "name": "ipython",
    "version": 3
   },
   "file_extension": ".py",
   "mimetype": "text/x-python",
   "name": "python",
   "nbconvert_exporter": "python",
   "pygments_lexer": "ipython3",
   "version": "3.11.1"
  }
 },
 "nbformat": 4,
 "nbformat_minor": 5
}
