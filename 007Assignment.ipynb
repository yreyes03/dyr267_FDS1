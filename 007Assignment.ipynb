{
 "cells": [
  {
   "cell_type": "markdown",
   "id": "5fff8590-3d5a-4274-b421-0e5449737af4",
   "metadata": {},
   "source": [
    "1. Variables and Assignment"
   ]
  },
  {
   "cell_type": "code",
   "execution_count": 4,
   "id": "44766fc4-ee93-42c4-a533-58d51f4f1db9",
   "metadata": {
    "tags": []
   },
   "outputs": [
    {
     "name": "stdout",
     "output_type": "stream",
     "text": [
      "Daniela\n",
      "22\n",
      "22\n",
      "Daniela\n"
     ]
    }
   ],
   "source": [
    "name = 'Daniela'\n",
    "print(name)\n",
    "age = 22\n",
    "print(age)\n",
    "\n",
    "name, age = age, name\n",
    "\n",
    "print(name)\n",
    "print(age)"
   ]
  },
  {
   "cell_type": "markdown",
   "id": "c9fc8b8d-92fd-487e-afde-06856975f1fd",
   "metadata": {},
   "source": [
    "2. Data Types"
   ]
  },
  {
   "cell_type": "code",
   "execution_count": 7,
   "id": "d003c333-624b-4e9a-88c6-6caa04391c53",
   "metadata": {
    "tags": []
   },
   "outputs": [
    {
     "name": "stdout",
     "output_type": "stream",
     "text": [
      "<class 'int'>\n",
      "<class 'float'>\n",
      "<class 'str'>\n",
      "<class 'list'>\n",
      "<class 'tuple'>\n",
      "<class 'set'>\n",
      "<class 'bool'>\n",
      "True\n"
     ]
    }
   ],
   "source": [
    "print(type(5))\n",
    "print(type(5.0))\n",
    "print(type('5'))\n",
    "print(type([5]))\n",
    "print(type((5,)))\n",
    "print(type({5}))\n",
    "print(type(True))\n",
    "\n",
    "is_student = True\n",
    "print(is_student)"
   ]
  },
  {
   "cell_type": "markdown",
   "id": "f1823cbb-2324-4890-859d-77aa907fe4b3",
   "metadata": {},
   "source": [
    "3. Basic Operator"
   ]
  },
  {
   "cell_type": "code",
   "execution_count": 11,
   "id": "87c866e6-1bde-4539-8a12-823522ae7039",
   "metadata": {
    "tags": []
   },
   "outputs": [
    {
     "name": "stdout",
     "output_type": "stream",
     "text": [
      "28\n",
      "-16\n",
      "56\n",
      "25.0\n",
      "0\n",
      "100000\n"
     ]
    }
   ],
   "source": [
    "print(15 + 13)\n",
    "print(34 - 50)\n",
    "print(8 * 7)\n",
    "print(100 / 4)\n",
    "\n",
    "a = 10\n",
    "b = 5\n",
    "print(a%b)\n",
    "print(a**b)"
   ]
  },
  {
   "cell_type": "markdown",
   "id": "6383b286-0b36-4f21-af5f-8ca6ad11f093",
   "metadata": {},
   "source": [
    "4. Type Conversation"
   ]
  },
  {
   "cell_type": "code",
   "execution_count": 18,
   "id": "b72e791e-20d4-491c-80a9-8d5aebdeed63",
   "metadata": {
    "tags": []
   },
   "outputs": [
    {
     "name": "stdout",
     "output_type": "stream",
     "text": [
      "123\n",
      "456\n",
      "78\n"
     ]
    }
   ],
   "source": [
    "#print(type(int('123')))\n",
    "#print(type('123'))\n",
    "\n",
    "print(int('123'))\n",
    "print(str(456))\n",
    "print(int(78.9))\n"
   ]
  },
  {
   "cell_type": "markdown",
   "id": "9ef07bd7-c743-4aec-a874-e9faa1f96460",
   "metadata": {},
   "source": [
    "After converting the float to an integer I get the number 78."
   ]
  },
  {
   "cell_type": "markdown",
   "id": "58e03ca8-36f5-4491-88c7-4384bef53e21",
   "metadata": {},
   "source": [
    "5. String Manipulation with Operators"
   ]
  },
  {
   "cell_type": "code",
   "execution_count": 28,
   "id": "b1308ca6-8d60-4753-9a29-4ee367e1be92",
   "metadata": {
    "tags": []
   },
   "outputs": [
    {
     "name": "stdout",
     "output_type": "stream",
     "text": [
      "PythonRocks\n",
      "Hello Hello Hello \n"
     ]
    }
   ],
   "source": [
    "print('Python' + 'Rocks')\n",
    "print('Hello ' * 3)"
   ]
  },
  {
   "cell_type": "markdown",
   "id": "507c75b9-a115-412d-8313-953eeabf004c",
   "metadata": {},
   "source": [
    "6. Bonus Question"
   ]
  },
  {
   "cell_type": "code",
   "execution_count": 27,
   "id": "1e037797-4336-4b2d-b84b-fce10055a1b3",
   "metadata": {
    "tags": []
   },
   "outputs": [
    {
     "name": "stdout",
     "output_type": "stream",
     "text": [
      "10 15 5\n"
     ]
    }
   ],
   "source": [
    "x = 5\n",
    "y = 10\n",
    "z = 15\n",
    "\n",
    "\n",
    "x = y\n",
    "y = z\n",
    "z = z - x\n",
    "\n",
    "print(x, y, z)\n",
    "\n",
    " "
   ]
  }
 ],
 "metadata": {
  "kernelspec": {
   "display_name": "Python 3 (ipykernel)",
   "language": "python",
   "name": "python3"
  },
  "language_info": {
   "codemirror_mode": {
    "name": "ipython",
    "version": 3
   },
   "file_extension": ".py",
   "mimetype": "text/x-python",
   "name": "python",
   "nbconvert_exporter": "python",
   "pygments_lexer": "ipython3",
   "version": "3.11.4"
  }
 },
 "nbformat": 4,
 "nbformat_minor": 5
}
