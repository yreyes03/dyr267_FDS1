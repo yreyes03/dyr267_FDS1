{
 "cells": [
  {
   "cell_type": "markdown",
   "id": "b71af9f1",
   "metadata": {},
   "source": [
    "# This is a notebook for homework used to practice the class workflow\n",
    "\n",
    "You are asked to add your information below:\n",
    "\n",
    "Name: Daniela\n",
    "\n",
    "Surname: Reyes\n",
    "\n",
    "EID: dyr267 "
   ]
  },
  {
   "cell_type": "markdown",
   "id": "a758306e",
   "metadata": {},
   "source": [
    "Create a table with 5 rows and 3 columns using Markdown.\n",
    "\n",
    "Column 1 should code for artist name\n",
    "Column 2 should code for a song title\n",
    "Column 3 should reason you like the song.\n",
    "\n",
    "Please fill out the table with your top 5 artists and their respective top songs and an note explaining why/what you like of the song and artist.\n",
    "\n",
    "###### Hint: Avoid say \"because they are awesome!\" We really are interested in learing what you guys like.\n"
   ]
  },
  {
   "cell_type": "markdown",
   "id": "7f3184f8-9d52-47c7-9021-65dcd145da53",
   "metadata": {
    "tags": []
   },
   "source": [
    "| Artist Name | Song Title | Reason |\n",
    "|:-----------:|:----------:|:------:|\n",
    "| Jose Jose   | El Triste  | I like how the artist conveys intense emotions in all of his songs. Could consider him my favorite artist. |\n",
    "| Lana del Rey| Summertime Sadness | I enjoy the melody and themes of her songs.|\n",
    "| Los Panchos | Contigo | They have really nice love songs. |\n",
    "| Javier Solis | Sombras | I like how dramatic his lyrics are. |\n",
    "| Billie Eilish | Happier Than Ever | I enjoy the variety of softness and intensity of her songs.|"
   ]
  }
 ],
 "metadata": {
  "kernelspec": {
   "display_name": "Python 3 (ipykernel)",
   "language": "python",
   "name": "python3"
  },
  "language_info": {
   "codemirror_mode": {
    "name": "ipython",
    "version": 3
   },
   "file_extension": ".py",
   "mimetype": "text/x-python",
   "name": "python",
   "nbconvert_exporter": "python",
   "pygments_lexer": "ipython3",
   "version": "3.11.4"
  }
 },
 "nbformat": 4,
 "nbformat_minor": 5
}
