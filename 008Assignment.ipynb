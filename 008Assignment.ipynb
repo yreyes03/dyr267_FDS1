{
 "cells": [
  {
   "cell_type": "markdown",
   "id": "fec971a0-6b2e-4219-a57f-9a8e1e29b97c",
   "metadata": {},
   "source": [
    "1. Indexing Strings:\n",
    "Given the string s = \"PYTHON\", retrieve and print the following:\n",
    "\n",
    "a) The first character\n",
    "b) The last character\n",
    "c) The string \"H\"\n",
    "d) The type of \"H\""
   ]
  },
  {
   "cell_type": "code",
   "execution_count": 4,
   "id": "73b0f510-a357-4f11-944f-95fc3d636b27",
   "metadata": {
    "tags": []
   },
   "outputs": [
    {
     "name": "stdout",
     "output_type": "stream",
     "text": [
      "P\n",
      "N\n",
      "H\n",
      "<class 'str'>\n"
     ]
    }
   ],
   "source": [
    "s = 'PYTHON'\n",
    "print(s[0])\n",
    "print(s[-1])\n",
    "print(s[3])\n",
    "print(type(s[3]))"
   ]
  },
  {
   "cell_type": "markdown",
   "id": "a7be6887-e6f4-40da-b367-14e8c4418a64",
   "metadata": {},
   "source": [
    "2. Indexing Tuples:\n",
    "Given the tuple t = (10, 20, 30, 40, 50, 60), retrieve and print the following:\n",
    "\n",
    "a) The first element\n",
    "b) The third element \n",
    "c) (Try to) Set the 3rd element to 30.4"
   ]
  },
  {
   "cell_type": "code",
   "execution_count": 5,
   "id": "9470672a-b5cc-4f07-8bea-a41c94b8a38c",
   "metadata": {
    "tags": []
   },
   "outputs": [
    {
     "name": "stdout",
     "output_type": "stream",
     "text": [
      "10\n",
      "30\n"
     ]
    },
    {
     "ename": "TypeError",
     "evalue": "'tuple' object does not support item assignment",
     "output_type": "error",
     "traceback": [
      "\u001b[1;31m---------------------------------------------------------------------------\u001b[0m",
      "\u001b[1;31mTypeError\u001b[0m                                 Traceback (most recent call last)",
      "Cell \u001b[1;32mIn[5], line 4\u001b[0m\n\u001b[0;32m      2\u001b[0m \u001b[38;5;28mprint\u001b[39m(t[\u001b[38;5;241m0\u001b[39m])\n\u001b[0;32m      3\u001b[0m \u001b[38;5;28mprint\u001b[39m(t[\u001b[38;5;241m2\u001b[39m])\n\u001b[1;32m----> 4\u001b[0m t[\u001b[38;5;241m2\u001b[39m] \u001b[38;5;241m=\u001b[39m \u001b[38;5;241m30.4\u001b[39m\n",
      "\u001b[1;31mTypeError\u001b[0m: 'tuple' object does not support item assignment"
     ]
    }
   ],
   "source": [
    "t = (10, 20, 30, 40, 50, 60)\n",
    "print(t[0])\n",
    "print(t[2])\n",
    "t[2] = 30.4"
   ]
  },
  {
   "cell_type": "markdown",
   "id": "a28863c0-07c2-46c9-b9a2-8e92d67ad7d1",
   "metadata": {},
   "source": [
    "3. Indexing Lists and Lists of Lists:\n",
    "Given the list lst = [5, 15, 25, [35, 45, [55, 65, 75], 85], 95], retrieve and print the following:\n",
    "\n",
    "a) The first element\n",
    "b) The last element\n",
    "c) The sublist [55, 65, 75] \n",
    "d) The number 65"
   ]
  },
  {
   "cell_type": "code",
   "execution_count": 10,
   "id": "89432fe2-aacd-4442-a66c-bc62eeec5b1b",
   "metadata": {
    "tags": []
   },
   "outputs": [
    {
     "name": "stdout",
     "output_type": "stream",
     "text": [
      "5\n",
      "95\n",
      "[55, 65, 75]\n",
      "65\n"
     ]
    }
   ],
   "source": [
    "lst = [5, 15, 25, [35, 45, [55, 65, 75], 85], 95]\n",
    "print(lst[0])\n",
    "print(lst[-1])\n",
    "print(lst[3][2])\n",
    "print(lst[3][2][1])"
   ]
  },
  {
   "cell_type": "markdown",
   "id": "55e616ad-a23f-4a32-8a68-0efebc15a8dd",
   "metadata": {},
   "source": [
    "4. Lists of Lists as Arrays:\n",
    "Consider a 3x3 matrix represented as a list of lists:"
   ]
  },
  {
   "cell_type": "code",
   "execution_count": 13,
   "id": "e0862f99-1fec-44d5-8886-61a83b06a490",
   "metadata": {
    "tags": []
   },
   "outputs": [
    {
     "data": {
      "text/plain": [
       "[[1, 2, 3], [4, 5, 6], [7, 8, 9]]"
      ]
     },
     "execution_count": 13,
     "metadata": {},
     "output_type": "execute_result"
    }
   ],
   "source": [
    "matrix = [\n",
    "    [1, 2, 3],\n",
    "    [4, 5, 6],\n",
    "    [7, 8, 9]\n",
    "]\n",
    "#matrix"
   ]
  },
  {
   "cell_type": "markdown",
   "id": "835a2d56-e68e-490a-8045-5235dab2ef41",
   "metadata": {},
   "source": [
    "a) Retrieve the second row.\n",
    "b) Retrieve the third column.\n",
    "c) Change the center element to 0 and print the modified matrix."
   ]
  },
  {
   "cell_type": "code",
   "execution_count": 17,
   "id": "085189e2-c4bf-4389-922b-0ec66148b3d7",
   "metadata": {
    "tags": []
   },
   "outputs": [
    {
     "name": "stdout",
     "output_type": "stream",
     "text": [
      "[4, 5, 6]\n",
      "3 6 9\n",
      "[[1, 0, 3], [4, 0, 6], [7, 0, 9]]\n"
     ]
    }
   ],
   "source": [
    "print(matrix[1])\n",
    "print(matrix[0][2], matrix[1][2], matrix[2][2])\n",
    "\n",
    "matrix[0][1] = 0\n",
    "matrix[1][1] = 0\n",
    "matrix[2][1] = 0\n",
    "print(matrix)"
   ]
  },
  {
   "cell_type": "markdown",
   "id": "353ddc0a-a8fb-4964-abdc-a5d812d713bd",
   "metadata": {},
   "source": [
    "5. Using Sets:\n",
    "Given two lists A = [1, 2, 2, 3, 4, 4, 5] and B = [4, 5, 5, 6, 7, 7,  8]:\n",
    "\n",
    "a) Create sets from both lists.\n",
    "b) Find the union of the two sets.\n",
    "c) Find the intersection of the two sets.\n",
    "d) Find the elements that are in A but not in B. \n",
    "e) Find the elements that are in A or B but not both."
   ]
  },
  {
   "cell_type": "code",
   "execution_count": 25,
   "id": "9a18013d-c879-4988-8b5d-b19356f4373a",
   "metadata": {
    "tags": []
   },
   "outputs": [
    {
     "name": "stdout",
     "output_type": "stream",
     "text": [
      "{1, 2, 3, 4, 5, 6, 7, 8}\n",
      "{4, 5}\n",
      "{1, 2, 3}\n",
      "{8, 6, 7}\n"
     ]
    }
   ],
   "source": [
    "A = [1, 2, 2, 3, 4, 4, 5]\n",
    "B = [4, 5, 5, 6, 7, 7,  8]\n",
    "set_A = set(A)\n",
    "#set_A\n",
    "set_B = set(B)\n",
    "\n",
    "#union of sets\n",
    "print(set_A | set_B)\n",
    "\n",
    "#intersection\n",
    "print(set_A & set_B)\n",
    "\n",
    "#A but not in B\n",
    "print(set_A - set_B)\n",
    "\n",
    "#B but not is A\n",
    "print(set_B - set_A)"
   ]
  },
  {
   "cell_type": "markdown",
   "id": "3f66f3f5-d2c8-45a9-a01e-3dd48fad7ed8",
   "metadata": {},
   "source": [
    "6. Working with Dictionaries:\n",
    "Consider the following dictionary that represents the stock of items in a store:"
   ]
  },
  {
   "cell_type": "code",
   "execution_count": 35,
   "id": "2b597428-7afa-44ae-81b4-73e997e17b7f",
   "metadata": {
    "tags": []
   },
   "outputs": [],
   "source": [
    "stock = {\n",
    "    \"apple\": 50,\n",
    "    \"banana\": 25,\n",
    "    \"orange\": 30,\n",
    "    \"grape\": 45\n",
    "}"
   ]
  },
  {
   "cell_type": "markdown",
   "id": "40416f98-0cec-4d82-9527-572e0583e994",
   "metadata": {},
   "source": [
    "a) Retrieve the stock of apple.\n",
    "b) Add a new fruit, pear, with a stock of 40.\n",
    "c) Update the stock of banana to 30.\n",
    "d) Remove orange from the stock."
   ]
  },
  {
   "cell_type": "code",
   "execution_count": 36,
   "id": "bec484cc-f2ba-4601-9d46-0c0288e048db",
   "metadata": {
    "tags": []
   },
   "outputs": [
    {
     "name": "stdout",
     "output_type": "stream",
     "text": [
      "50\n",
      "{'apple': 50, 'banana': 30, 'grape': 45, 'pear': 40}\n"
     ]
    }
   ],
   "source": [
    "print(stock['apple'])\n",
    "stock['pear'] = 40\n",
    "#stock\n",
    "stock['banana'] = 30\n",
    "del stock['orange']\n",
    "print(stock)"
   ]
  }
 ],
 "metadata": {
  "kernelspec": {
   "display_name": "Python 3 (ipykernel)",
   "language": "python",
   "name": "python3"
  },
  "language_info": {
   "codemirror_mode": {
    "name": "ipython",
    "version": 3
   },
   "file_extension": ".py",
   "mimetype": "text/x-python",
   "name": "python",
   "nbconvert_exporter": "python",
   "pygments_lexer": "ipython3",
   "version": "3.11.4"
  }
 },
 "nbformat": 4,
 "nbformat_minor": 5
}
