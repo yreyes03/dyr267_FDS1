{
 "cells": [
  {
   "cell_type": "markdown",
   "id": "406633c0",
   "metadata": {},
   "source": [
    "### Homework on Pandas Basics\n",
    "\n",
    "---\n",
    "\n",
    "#### Series Exercises:\n",
    "\n",
    "1. **Create a Series:**\n",
    "   - Create a Series named `fruits` with the data: 'apple', 'banana', 'cherry', 'date', and assign it an index of 'a', 'b', 'c', 'd' respectively.\n",
    "   - Print the Series.\n",
    "   - Print the `Index` of the series."
   ]
  },
  {
   "cell_type": "code",
   "execution_count": 3,
   "id": "fa31f7ca",
   "metadata": {},
   "outputs": [],
   "source": [
    "import pandas as pd"
   ]
  },
  {
   "cell_type": "code",
   "execution_count": 4,
   "id": "0a41a69e",
   "metadata": {},
   "outputs": [
    {
     "name": "stdout",
     "output_type": "stream",
     "text": [
      "a     apple\n",
      "b    banana\n",
      "c    cherry\n",
      "d      date\n",
      "dtype: object\n",
      "Index(['a', 'b', 'c', 'd'], dtype='object')\n"
     ]
    }
   ],
   "source": [
    "fruits = pd.Series(['apple', 'banana', 'cherry', 'date'], index = ('a', 'b', 'c', 'd'))\n",
    "print(fruits)\n",
    "print(fruits.index)"
   ]
  },
  {
   "cell_type": "markdown",
   "id": "3cfd4c48",
   "metadata": {},
   "source": [
    "2. Accessing Elements:\n",
    "\n",
    "Print the second (\"b\") element of the fruits Series."
   ]
  },
  {
   "cell_type": "code",
   "execution_count": 5,
   "id": "bd236d7e",
   "metadata": {},
   "outputs": [
    {
     "data": {
      "text/plain": [
       "'banana'"
      ]
     },
     "execution_count": 5,
     "metadata": {},
     "output_type": "execute_result"
    }
   ],
   "source": [
    "fruits['b']"
   ]
  },
  {
   "cell_type": "markdown",
   "id": "349f190e",
   "metadata": {},
   "source": [
    "3. Series Operations:\n",
    "\n",
    "Create a Series with the squares of the numbers 1 through 5.\n",
    "Add 10 to each item in the series (hint: there a method to this madness)."
   ]
  },
  {
   "cell_type": "code",
   "execution_count": 6,
   "id": "0bdfef0a",
   "metadata": {},
   "outputs": [
    {
     "data": {
      "text/plain": [
       "0    11\n",
       "1    14\n",
       "2    19\n",
       "3    26\n",
       "4    35\n",
       "dtype: int64"
      ]
     },
     "execution_count": 6,
     "metadata": {},
     "output_type": "execute_result"
    }
   ],
   "source": [
    "num = pd.Series([1**2, 2**2, 3**2, 4**2, 5**2])\n",
    "num[0:5] = num[0:5] + 10\n",
    "num"
   ]
  },
  {
   "cell_type": "markdown",
   "id": "83ebb3bf",
   "metadata": {},
   "source": [
    "#### DataFrame Exercises:\n",
    "\n",
    "1. **Create a DataFrame:**\n",
    "   - Create a DataFrame named `students` with the columns: 'Name', 'Age', 'Grade'.\n",
    "   - Populate it with data for three fictional students."
   ]
  },
  {
   "cell_type": "code",
   "execution_count": 7,
   "id": "31fd62e4",
   "metadata": {},
   "outputs": [
    {
     "data": {
      "text/html": [
       "<div>\n",
       "<style scoped>\n",
       "    .dataframe tbody tr th:only-of-type {\n",
       "        vertical-align: middle;\n",
       "    }\n",
       "\n",
       "    .dataframe tbody tr th {\n",
       "        vertical-align: top;\n",
       "    }\n",
       "\n",
       "    .dataframe thead th {\n",
       "        text-align: right;\n",
       "    }\n",
       "</style>\n",
       "<table border=\"1\" class=\"dataframe\">\n",
       "  <thead>\n",
       "    <tr style=\"text-align: right;\">\n",
       "      <th></th>\n",
       "      <th>Name</th>\n",
       "      <th>Age</th>\n",
       "      <th>Grade</th>\n",
       "    </tr>\n",
       "  </thead>\n",
       "  <tbody>\n",
       "    <tr>\n",
       "      <th>0</th>\n",
       "      <td>Sally</td>\n",
       "      <td>19</td>\n",
       "      <td>98</td>\n",
       "    </tr>\n",
       "    <tr>\n",
       "      <th>1</th>\n",
       "      <td>Lily</td>\n",
       "      <td>20</td>\n",
       "      <td>87</td>\n",
       "    </tr>\n",
       "    <tr>\n",
       "      <th>2</th>\n",
       "      <td>Pam</td>\n",
       "      <td>21</td>\n",
       "      <td>94</td>\n",
       "    </tr>\n",
       "  </tbody>\n",
       "</table>\n",
       "</div>"
      ],
      "text/plain": [
       "    Name  Age  Grade\n",
       "0  Sally   19     98\n",
       "1   Lily   20     87\n",
       "2    Pam   21     94"
      ]
     },
     "execution_count": 7,
     "metadata": {},
     "output_type": "execute_result"
    }
   ],
   "source": [
    "df = [['Sally', 19, 98], ['Lily', 20, 87], ['Pam', 21, 94]]\n",
    "col = ['Name', 'Age', 'Grade']\n",
    "\n",
    "students = pd.DataFrame(df, columns = col)\n",
    "students"
   ]
  },
  {
   "cell_type": "markdown",
   "id": "3d4522a0",
   "metadata": {},
   "source": [
    "2. **Accessing Data:**\n",
    "   - Print the `Name` column of the `students` DataFrame."
   ]
  },
  {
   "cell_type": "code",
   "execution_count": 8,
   "id": "d49dca34",
   "metadata": {},
   "outputs": [
    {
     "data": {
      "text/plain": [
       "0    Sally\n",
       "1     Lily\n",
       "2      Pam\n",
       "Name: Name, dtype: object"
      ]
     },
     "execution_count": 8,
     "metadata": {},
     "output_type": "execute_result"
    }
   ],
   "source": [
    "students['Name']"
   ]
  },
  {
   "cell_type": "markdown",
   "id": "ac8fa9a0",
   "metadata": {},
   "source": [
    "4. **DataFrame Operations:**\n",
    "   \n",
    "   - Add a new column to the `students` DataFrame named `Graduated`, which should be `True` if the student's grade is 'A' and `False` otherwise.\n",
    "   - Print the updated DataFrame."
   ]
  },
  {
   "cell_type": "code",
   "execution_count": 9,
   "id": "e7678328",
   "metadata": {},
   "outputs": [
    {
     "data": {
      "text/html": [
       "<div>\n",
       "<style scoped>\n",
       "    .dataframe tbody tr th:only-of-type {\n",
       "        vertical-align: middle;\n",
       "    }\n",
       "\n",
       "    .dataframe tbody tr th {\n",
       "        vertical-align: top;\n",
       "    }\n",
       "\n",
       "    .dataframe thead th {\n",
       "        text-align: right;\n",
       "    }\n",
       "</style>\n",
       "<table border=\"1\" class=\"dataframe\">\n",
       "  <thead>\n",
       "    <tr style=\"text-align: right;\">\n",
       "      <th></th>\n",
       "      <th>Name</th>\n",
       "      <th>Age</th>\n",
       "      <th>Grade</th>\n",
       "      <th>Graduated</th>\n",
       "    </tr>\n",
       "  </thead>\n",
       "  <tbody>\n",
       "    <tr>\n",
       "      <th>0</th>\n",
       "      <td>Sally</td>\n",
       "      <td>19</td>\n",
       "      <td>98</td>\n",
       "      <td>True</td>\n",
       "    </tr>\n",
       "    <tr>\n",
       "      <th>1</th>\n",
       "      <td>Lily</td>\n",
       "      <td>20</td>\n",
       "      <td>87</td>\n",
       "      <td>False</td>\n",
       "    </tr>\n",
       "    <tr>\n",
       "      <th>2</th>\n",
       "      <td>Pam</td>\n",
       "      <td>21</td>\n",
       "      <td>94</td>\n",
       "      <td>True</td>\n",
       "    </tr>\n",
       "  </tbody>\n",
       "</table>\n",
       "</div>"
      ],
      "text/plain": [
       "    Name  Age  Grade  Graduated\n",
       "0  Sally   19     98       True\n",
       "1   Lily   20     87      False\n",
       "2    Pam   21     94       True"
      ]
     },
     "execution_count": 9,
     "metadata": {},
     "output_type": "execute_result"
    }
   ],
   "source": [
    "students['Graduated'] = students['Grade'] > 89.9\n",
    "students"
   ]
  },
  {
   "cell_type": "markdown",
   "id": "98c7c36e",
   "metadata": {},
   "source": [
    "5. **Maths:**\n",
    "   \n",
    "   - Calculate and print the average age of the students."
   ]
  },
  {
   "cell_type": "code",
   "execution_count": 10,
   "id": "1d0219ea",
   "metadata": {},
   "outputs": [
    {
     "data": {
      "text/plain": [
       "20.0"
      ]
     },
     "execution_count": 10,
     "metadata": {},
     "output_type": "execute_result"
    }
   ],
   "source": [
    "students['Age'].mean()"
   ]
  },
  {
   "cell_type": "markdown",
   "id": "e81b8eb1",
   "metadata": {},
   "source": [
    "6. **Sorting:**\n",
    "   - Sort the `students` DataFrame based on the `Age` column in descending order and print it."
   ]
  },
  {
   "cell_type": "code",
   "execution_count": 13,
   "id": "e720d868",
   "metadata": {},
   "outputs": [
    {
     "data": {
      "text/html": [
       "<div>\n",
       "<style scoped>\n",
       "    .dataframe tbody tr th:only-of-type {\n",
       "        vertical-align: middle;\n",
       "    }\n",
       "\n",
       "    .dataframe tbody tr th {\n",
       "        vertical-align: top;\n",
       "    }\n",
       "\n",
       "    .dataframe thead th {\n",
       "        text-align: right;\n",
       "    }\n",
       "</style>\n",
       "<table border=\"1\" class=\"dataframe\">\n",
       "  <thead>\n",
       "    <tr style=\"text-align: right;\">\n",
       "      <th></th>\n",
       "      <th>Name</th>\n",
       "      <th>Age</th>\n",
       "      <th>Grade</th>\n",
       "      <th>Graduated</th>\n",
       "    </tr>\n",
       "  </thead>\n",
       "  <tbody>\n",
       "    <tr>\n",
       "      <th>2</th>\n",
       "      <td>Pam</td>\n",
       "      <td>21</td>\n",
       "      <td>94</td>\n",
       "      <td>True</td>\n",
       "    </tr>\n",
       "    <tr>\n",
       "      <th>1</th>\n",
       "      <td>Lily</td>\n",
       "      <td>20</td>\n",
       "      <td>87</td>\n",
       "      <td>False</td>\n",
       "    </tr>\n",
       "    <tr>\n",
       "      <th>0</th>\n",
       "      <td>Sally</td>\n",
       "      <td>19</td>\n",
       "      <td>98</td>\n",
       "      <td>True</td>\n",
       "    </tr>\n",
       "  </tbody>\n",
       "</table>\n",
       "</div>"
      ],
      "text/plain": [
       "    Name  Age  Grade  Graduated\n",
       "2    Pam   21     94       True\n",
       "1   Lily   20     87      False\n",
       "0  Sally   19     98       True"
      ]
     },
     "execution_count": 13,
     "metadata": {},
     "output_type": "execute_result"
    }
   ],
   "source": [
    "students.sort_values('Age', ascending = False)"
   ]
  },
  {
   "cell_type": "markdown",
   "id": "3d160cd2",
   "metadata": {},
   "source": [
    "7. **Tidy Data**.\n",
    "   - Re-make the cognitive health data frame from class so it is \"tidy\", with each column as variable and each row an observation.\n",
    "   - Compute the mean and standard deviation of all variables.\n",
    "   - Compute the mean and standard error for the happiness variable (there might even be a method for computing standard error...)."
   ]
  },
  {
   "cell_type": "code",
   "execution_count": 59,
   "id": "e70ff4bd",
   "metadata": {},
   "outputs": [
    {
     "name": "stdout",
     "output_type": "stream",
     "text": [
      "Happiness    14.00\n",
      "Language      3.75\n",
      "Energy        8.25\n",
      "Memory        4.75\n",
      "dtype: float64\n",
      "\n",
      "Happiness    3.366502\n",
      "Language     2.362908\n",
      "Energy       2.986079\n",
      "Memory       2.872281\n",
      "dtype: float64\n",
      "\n",
      "14.0\n",
      "\n",
      "1.6832508230603465\n",
      "\n"
     ]
    }
   ],
   "source": [
    "cog_heal = [[10,2,5,3], [15,4,9,3],[18,7,12,9], [13,2,7,4]]\n",
    "col = ['Happiness', 'Language','Energy', 'Memory']\n",
    "\n",
    "cognitive_health = pd.DataFrame(cog_heal, columns = col)\n",
    "print(cognitive_health)\n",
    "\n",
    "print(cognitive_health[['Happiness', 'Language', 'Energy', 'Memory']].mean(), \n",
    "      cognitive_health[['Happiness', 'Language', 'Energy', 'Memory']].std(), \n",
    "      sep = '\\n\\n')\n",
    "\n",
    "print(cognitive_health['Happiness'].mean(), cognitive_health['Happiness'].sem(), \n",
    "      sep = '\\n\\n')\n"
   ]
  }
 ],
 "metadata": {
  "kernelspec": {
   "display_name": "Python 3 (ipykernel)",
   "language": "python",
   "name": "python3"
  },
  "language_info": {
   "codemirror_mode": {
    "name": "ipython",
    "version": 3
   },
   "file_extension": ".py",
   "mimetype": "text/x-python",
   "name": "python",
   "nbconvert_exporter": "python",
   "pygments_lexer": "ipython3",
   "version": "3.11.4"
  }
 },
 "nbformat": 4,
 "nbformat_minor": 5
}
