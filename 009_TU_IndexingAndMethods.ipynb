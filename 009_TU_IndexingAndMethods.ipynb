{
 "cells": [
  {
   "cell_type": "markdown",
   "id": "60242d2c",
   "metadata": {},
   "source": [
    "# Indexing and Container Methods"
   ]
  },
  {
   "cell_type": "markdown",
   "id": "4e05c6cf",
   "metadata": {},
   "source": [
    "## Learning Goals\n",
    "\n",
    "  - Indexing and slicing of \n",
    "    - strings\n",
    "    - lists\n",
    "    - tuples\n",
    "  - Python Object Methods\n",
    "    - What is a Method?\n",
    "    - Methods for\n",
    "      - strings\n",
    "      - lists\n",
    "      - tuples\n",
    "      - dictionaries\n",
    "      "
   ]
  },
  {
   "cell_type": "markdown",
   "id": "1c655993-704e-49d4-b3ec-ca31ac281d06",
   "metadata": {},
   "source": [
    "---"
   ]
  },
  {
   "cell_type": "markdown",
   "id": "06e0ced0",
   "metadata": {},
   "source": [
    "### Indexing and Slicing"
   ]
  },
  {
   "cell_type": "markdown",
   "id": "66d9180f",
   "metadata": {},
   "source": [
    "#### (More) Indexing"
   ]
  },
  {
   "cell_type": "markdown",
   "id": "9b1bbe60-952f-45bf-a499-bbf44e320feb",
   "metadata": {},
   "source": [
    "As we saw last time, ndexing in Python is *zero-based*. So what you might expect to be the first element of something is actually element `0`. So we have:"
   ]
  },
  {
   "cell_type": "code",
   "execution_count": 4,
   "id": "225b15d0",
   "metadata": {
    "tags": []
   },
   "outputs": [
    {
     "name": "stdout",
     "output_type": "stream",
     "text": [
      "First  M then  o  etc.\n"
     ]
    }
   ],
   "source": [
    "mystring = \"Monte Python's Flying Circus\"\n",
    "print(\"First \", mystring[0], \"then \", mystring[1], \" etc.\")"
   ]
  },
  {
   "cell_type": "markdown",
   "id": "58136828",
   "metadata": {},
   "source": [
    "So `mystring[1]`, for example,  is saying \"Whatever is 1 element over from the beginning of the string\" which, in this case,  is an (`'o'`)."
   ]
  },
  {
   "cell_type": "markdown",
   "id": "9c110ccf-2fc3-4948-abb6-1b63dbc8853e",
   "metadata": {},
   "source": [
    "You can index from the end of a container too! Try a `mystring[-1]`:"
   ]
  },
  {
   "cell_type": "code",
   "execution_count": 5,
   "id": "77a93322-7055-487f-a4c3-77f5321ed857",
   "metadata": {
    "tags": []
   },
   "outputs": [
    {
     "data": {
      "text/plain": [
       "'s'"
      ]
     },
     "execution_count": 5,
     "metadata": {},
     "output_type": "execute_result"
    }
   ],
   "source": [
    "mystring[-1]"
   ]
  },
  {
   "cell_type": "markdown",
   "id": "ec3d07a3-7a20-4acf-9ea5-ed205b4488de",
   "metadata": {},
   "source": [
    "Wait, what happened there? Is indexing from the end one-based and indexing from the beggining is zero-based? Well, functionally \"yes\", but it actually makes sense and is consistent."
   ]
  },
  {
   "cell_type": "markdown",
   "id": "28a2c251-d37d-4b3f-8769-d6a052f30cf9",
   "metadata": {},
   "source": [
    "First, `-0` is the same as `0`:"
   ]
  },
  {
   "cell_type": "code",
   "execution_count": 6,
   "id": "351cdc87-2d0c-46e2-8d99-8b15fa72e6b5",
   "metadata": {
    "tags": []
   },
   "outputs": [
    {
     "data": {
      "text/plain": [
       "True"
      ]
     },
     "execution_count": 6,
     "metadata": {},
     "output_type": "execute_result"
    }
   ],
   "source": [
    "-0 == 0"
   ]
  },
  {
   "cell_type": "markdown",
   "id": "2bafb9dc-7800-4860-aa62-6aac82dbd1f6",
   "metadata": {},
   "source": [
    "So if we do a `mystring[-0]`..."
   ]
  },
  {
   "cell_type": "code",
   "execution_count": 7,
   "id": "32bfe491-8118-4381-9b2f-50b15af61eb4",
   "metadata": {},
   "outputs": [
    {
     "data": {
      "text/plain": [
       "'M'"
      ]
     },
     "execution_count": 7,
     "metadata": {},
     "output_type": "execute_result"
    }
   ],
   "source": [
    "mystring[-0]"
   ]
  },
  {
   "cell_type": "markdown",
   "id": "40f78fff-dc21-4266-a225-235fe337d354",
   "metadata": {},
   "source": [
    "We get the first element, `M`, which makes sense; it's the same as `mystring[0]`. \n",
    "\n",
    "Now let's do a `len(mystring) - 1`:"
   ]
  },
  {
   "cell_type": "code",
   "execution_count": 8,
   "id": "aa3fb83d-8738-4aaa-8a21-790edd92d92c",
   "metadata": {
    "tags": []
   },
   "outputs": [
    {
     "data": {
      "text/plain": [
       "27"
      ]
     },
     "execution_count": 8,
     "metadata": {},
     "output_type": "execute_result"
    }
   ],
   "source": [
    "len(mystring) - 1"
   ]
  },
  {
   "cell_type": "markdown",
   "id": "b8f370c0-26f2-403c-8297-c99481a95d61",
   "metadata": {},
   "source": [
    "Which corresponds to the *offset* of the last element. "
   ]
  },
  {
   "cell_type": "code",
   "execution_count": 9,
   "id": "d4df3b72",
   "metadata": {
    "tags": []
   },
   "outputs": [
    {
     "data": {
      "text/plain": [
       "'s'"
      ]
     },
     "execution_count": 9,
     "metadata": {},
     "output_type": "execute_result"
    }
   ],
   "source": [
    "mystring[27]"
   ]
  },
  {
   "cell_type": "markdown",
   "id": "8adb19d4",
   "metadata": {},
   "source": [
    "So now let's get the last element the \"long\" way:"
   ]
  },
  {
   "cell_type": "code",
   "execution_count": 10,
   "id": "d9ad8b63-d9d4-4ff7-a946-861036c14c1a",
   "metadata": {
    "tags": []
   },
   "outputs": [
    {
     "data": {
      "text/plain": [
       "'s'"
      ]
     },
     "execution_count": 10,
     "metadata": {},
     "output_type": "execute_result"
    }
   ],
   "source": [
    "mystring[len(mystring) - 1]"
   ]
  },
  {
   "cell_type": "markdown",
   "id": "24e013f3-5de9-42ea-9059-c8fbeb245ebc",
   "metadata": {},
   "source": [
    "Which works just fine. But why do that when we can just do `mystring[-1]`?!"
   ]
  },
  {
   "cell_type": "code",
   "execution_count": 11,
   "id": "e79452b5-5856-46de-a0ec-9b6d2babbb03",
   "metadata": {
    "tags": []
   },
   "outputs": [
    {
     "data": {
      "text/plain": [
       "'s'"
      ]
     },
     "execution_count": 11,
     "metadata": {},
     "output_type": "execute_result"
    }
   ],
   "source": [
    "mystring[-1]"
   ]
  },
  {
   "cell_type": "markdown",
   "id": "d9351194",
   "metadata": {},
   "source": [
    "Thus, indexing the first element of a container with a `0` and indexing the last element with a `-1` is actually logical and consistent."
   ]
  },
  {
   "cell_type": "markdown",
   "id": "5b0e0f74-ce89-44d8-bc05-9301c9fe774c",
   "metadata": {},
   "source": [
    "#### Slicing"
   ]
  },
  {
   "cell_type": "markdown",
   "id": "5b71da32-0862-4e2c-8114-c4a19bed10d0",
   "metadata": {},
   "source": [
    "We can grab multiple elements by \"slicing\" using the `:` (colon) operator. Like this:"
   ]
  },
  {
   "cell_type": "code",
   "execution_count": 12,
   "id": "3a2cb886-a883-42e8-a65f-e32725e23eb4",
   "metadata": {
    "tags": []
   },
   "outputs": [
    {
     "data": {
      "text/plain": [
       "'Monte Python'"
      ]
     },
     "execution_count": 12,
     "metadata": {},
     "output_type": "execute_result"
    }
   ],
   "source": [
    "sub_str = mystring[0:12] #gets from 0 to 11\n",
    "sub_str"
   ]
  },
  {
   "cell_type": "markdown",
   "id": "4ad5d09c-865e-4e52-bf7c-6308a312a716",
   "metadata": {},
   "source": [
    "Which can be read as \"Start at offset 0 and finish at offset 12.\""
   ]
  },
  {
   "cell_type": "markdown",
   "id": "a23ae8b7-b4ab-493b-bc8b-849b09cc9091",
   "metadata": {},
   "source": [
    "We do **not** get the element at offset 12; we get what's up to but *not* including offset 12. Put another way, the first index in a slice is *inclusive* while the second index is *exclusive*. "
   ]
  },
  {
   "cell_type": "markdown",
   "id": "2b862e17",
   "metadata": {},
   "source": [
    "Thus, "
   ]
  },
  {
   "cell_type": "code",
   "execution_count": 13,
   "id": "de59c76b-b58e-4fa0-bec3-43924f71b49c",
   "metadata": {
    "tags": []
   },
   "outputs": [
    {
     "data": {
      "text/plain": [
       "\"'\""
      ]
     },
     "execution_count": 13,
     "metadata": {},
     "output_type": "execute_result"
    }
   ],
   "source": [
    "mystring[12]"
   ]
  },
  {
   "cell_type": "markdown",
   "id": "e81ae9e5-16c8-48b2-8bae-153eb2f86188",
   "metadata": {},
   "source": [
    "is a space. But if we look at the last element of `sub_str`:"
   ]
  },
  {
   "cell_type": "code",
   "execution_count": 14,
   "id": "ebdaea6c-cd2e-4fa0-809f-cdcf75fe2405",
   "metadata": {
    "tags": []
   },
   "outputs": [
    {
     "data": {
      "text/plain": [
       "'n'"
      ]
     },
     "execution_count": 14,
     "metadata": {},
     "output_type": "execute_result"
    }
   ],
   "source": [
    "sub_str[-1]"
   ]
  },
  {
   "cell_type": "markdown",
   "id": "76577648-3ae7-4ffd-83df-b99e53821f91",
   "metadata": {},
   "source": [
    "it's an \"n\", and if we try this:"
   ]
  },
  {
   "cell_type": "code",
   "execution_count": 15,
   "id": "1364c44c-5296-4fe8-afc8-2344d44e7cdd",
   "metadata": {
    "tags": []
   },
   "outputs": [
    {
     "ename": "IndexError",
     "evalue": "string index out of range",
     "output_type": "error",
     "traceback": [
      "\u001b[1;31m---------------------------------------------------------------------------\u001b[0m",
      "\u001b[1;31mIndexError\u001b[0m                                Traceback (most recent call last)",
      "Cell \u001b[1;32mIn[15], line 1\u001b[0m\n\u001b[1;32m----> 1\u001b[0m sub_str[\u001b[38;5;241m12\u001b[39m]\n",
      "\u001b[1;31mIndexError\u001b[0m: string index out of range"
     ]
    }
   ],
   "source": [
    "sub_str[12]"
   ]
  },
  {
   "cell_type": "markdown",
   "id": "083e2a68-2c39-4a6e-b22b-bb6351710b93",
   "metadata": {},
   "source": [
    "We get an error telling us that there isn't anything at offset 12! But we *did* get 12 elements, which we can confirm by:"
   ]
  },
  {
   "cell_type": "code",
   "execution_count": 16,
   "id": "c679fdd0-51d7-4547-8ee8-cbbbfd44a163",
   "metadata": {
    "tags": []
   },
   "outputs": [
    {
     "data": {
      "text/plain": [
       "12"
      ]
     },
     "execution_count": 16,
     "metadata": {},
     "output_type": "execute_result"
    }
   ],
   "source": [
    "len(sub_str)"
   ]
  },
  {
   "cell_type": "markdown",
   "id": "2e604527-1516-494d-84dc-8f7414539fb7",
   "metadata": {},
   "source": [
    "One way to think about this is to \n",
    " 1. consider the \"offsets\" as being just to the left of the corresponding element in the string, and\n",
    " 2. read `mystring[start offset : end offset`] as giving you all the things that are to the right of \"start offset\" and to the left of \"end offset\"."
   ]
  },
  {
   "cell_type": "markdown",
   "id": "9231fbf4",
   "metadata": {},
   "source": [
    "#### Advanced Slicing"
   ]
  },
  {
   "cell_type": "markdown",
   "id": "3a3ce62a",
   "metadata": {},
   "source": [
    "One cool thing about the colon (`:`) operator is that if you leave off the beginning or end index (or both), then an end of an object is implied.  So try:"
   ]
  },
  {
   "cell_type": "code",
   "execution_count": 17,
   "id": "42a5792e",
   "metadata": {},
   "outputs": [
    {
     "data": {
      "text/plain": [
       "'Flying Circus'"
      ]
     },
     "execution_count": 17,
     "metadata": {},
     "output_type": "execute_result"
    }
   ],
   "source": [
    "mystring[15:]"
   ]
  },
  {
   "cell_type": "markdown",
   "id": "e30fbf1f",
   "metadata": {},
   "source": [
    "and:"
   ]
  },
  {
   "cell_type": "code",
   "execution_count": null,
   "id": "cdc497d4",
   "metadata": {},
   "outputs": [],
   "source": [
    "mystring[:15]"
   ]
  },
  {
   "cell_type": "markdown",
   "id": "c8b62dfa-cd5b-4b01-8927-af958c792e3f",
   "metadata": {},
   "source": [
    "Both ends can be implied, which must be true to be logically consistent."
   ]
  },
  {
   "cell_type": "code",
   "execution_count": null,
   "id": "cbe015e9",
   "metadata": {},
   "outputs": [],
   "source": [
    "mystring[:]"
   ]
  },
  {
   "cell_type": "markdown",
   "id": "99ee53ea",
   "metadata": {},
   "source": [
    "Slicing works just the same for lists and tuples. So if we have:"
   ]
  },
  {
   "cell_type": "code",
   "execution_count": null,
   "id": "a65ba29a",
   "metadata": {},
   "outputs": [],
   "source": [
    "mylist = [9, 8, 7, 6, 5, 4, 3, 2, 1, 0]"
   ]
  },
  {
   "cell_type": "markdown",
   "id": "44aa3b7b",
   "metadata": {},
   "source": [
    "Then we can slice it in all the same ways, for example"
   ]
  },
  {
   "cell_type": "code",
   "execution_count": null,
   "id": "1490c81c",
   "metadata": {},
   "outputs": [],
   "source": [
    "print(mylist[-5:])"
   ]
  },
  {
   "cell_type": "markdown",
   "id": "3ff9cfd0",
   "metadata": {},
   "source": [
    "Finally, we can also add a \"step\" after the stop, as in `mystring[start:stop:step]`:"
   ]
  },
  {
   "cell_type": "code",
   "execution_count": null,
   "id": "1aed651b",
   "metadata": {
    "tags": []
   },
   "outputs": [],
   "source": [
    "mystring[1:15:2]"
   ]
  },
  {
   "cell_type": "markdown",
   "id": "a6a14e07",
   "metadata": {},
   "source": [
    "Which gives us every other element from the 2nd to the 14th. To get every third element from the 5th to the end, we would do this:"
   ]
  },
  {
   "cell_type": "code",
   "execution_count": null,
   "id": "71979b96",
   "metadata": {
    "tags": []
   },
   "outputs": [],
   "source": [
    "mystring[4::3]"
   ]
  },
  {
   "cell_type": "markdown",
   "id": "300e14f6",
   "metadata": {},
   "source": [
    "(Omitting the stop index implies continuing to the end, just as before.)"
   ]
  },
  {
   "cell_type": "markdown",
   "id": "617b2120",
   "metadata": {},
   "source": [
    "To get every 5th element, then, we would omit the start and stop and just specity the step:"
   ]
  },
  {
   "cell_type": "code",
   "execution_count": null,
   "id": "9af65ec6",
   "metadata": {},
   "outputs": [],
   "source": [
    "mystring[::5]"
   ]
  },
  {
   "cell_type": "code",
   "execution_count": null,
   "id": "5f6df3dd",
   "metadata": {},
   "outputs": [],
   "source": []
  },
  {
   "cell_type": "markdown",
   "id": "650aee0c-7e93-4ae5-be1a-570aff3906a3",
   "metadata": {},
   "source": [
    "### *Methods* of Python objects"
   ]
  },
  {
   "cell_type": "markdown",
   "id": "6032a364",
   "metadata": {},
   "source": [
    "Anything that holds data in Python, be it an `int` (integer), `str` (string), `list`, `tuple`, etc., is an *object*. Objects can be thought of as boxes with a front, clear half in which you can see its values, and a back, opaque part that holds lots of valuable hidden things called \"**attributes**\" and \"**methods**\". "
   ]
  },
  {
   "cell_type": "markdown",
   "id": "1f32851f",
   "metadata": {},
   "source": [
    "We've already met attributes, actually; these are the *nouns* that describe the object, such as its type and, if applicable, its length."
   ]
  },
  {
   "cell_type": "code",
   "execution_count": null,
   "id": "536f2e75",
   "metadata": {
    "tags": []
   },
   "outputs": [],
   "source": [
    "print(\"mystring is \", len(mystring), \" elements long and of type \", type(mystring))"
   ]
  },
  {
   "cell_type": "markdown",
   "id": "53794a40",
   "metadata": {},
   "source": [
    "Methods, on the other hand, are the *verbs* for an object; they are actions that the objects can perform."
   ]
  },
  {
   "cell_type": "markdown",
   "id": "80981b0d",
   "metadata": {},
   "source": [
    "When we say that a method \"belongs\" to an object, we mean that the method is associated with a specific type (or class) of object and usually operates on the data contained within instances of that type. You can think of methods as *tools that objects have at their disposal to perform certain tasks*.\n",
    "\n",
    "Methods are called by appending the method name to the object, separated by a dot (`.`), like `object.method(arguments)`.  \n",
    "\n",
    "**Pro tip**: You can list all the methods for an object by typing the object name, a dot (`.`) and then the \\<tab\\> key"
   ]
  },
  {
   "cell_type": "markdown",
   "id": "a038274f",
   "metadata": {},
   "source": [
    "---"
   ]
  },
  {
   "cell_type": "markdown",
   "id": "bbbb186d",
   "metadata": {},
   "source": [
    "#### String Methods\n",
    "\n",
    "Strings come with many specific methods for working with text. A few are:"
   ]
  },
  {
   "cell_type": "markdown",
   "id": "89308c93",
   "metadata": {},
   "source": [
    ".upper(): returns an uppercase version of the string."
   ]
  },
  {
   "cell_type": "code",
   "execution_count": 18,
   "id": "c3b71e2d",
   "metadata": {
    "tags": []
   },
   "outputs": [
    {
     "name": "stdout",
     "output_type": "stream",
     "text": [
      "MONTE PYTHON'S FLYING CIRCUS\n"
     ]
    }
   ],
   "source": [
    "print(mystring.upper()) \n"
   ]
  },
  {
   "cell_type": "markdown",
   "id": "6a5796f6",
   "metadata": {},
   "source": [
    "The `upper()` method does not change the original (immutable) string:"
   ]
  },
  {
   "cell_type": "code",
   "execution_count": null,
   "id": "9d2b0225",
   "metadata": {
    "tags": []
   },
   "outputs": [],
   "source": [
    "mystring"
   ]
  },
  {
   "cell_type": "markdown",
   "id": "354630ef",
   "metadata": {},
   "source": [
    "---"
   ]
  },
  {
   "cell_type": "markdown",
   "id": "5e611dcd",
   "metadata": {},
   "source": [
    "See if you can guess how to return a lower case version of the string."
   ]
  },
  {
   "cell_type": "code",
   "execution_count": 19,
   "id": "84d47b92",
   "metadata": {
    "tags": []
   },
   "outputs": [
    {
     "data": {
      "text/plain": [
       "\"monte python's flying circus\""
      ]
     },
     "execution_count": 19,
     "metadata": {},
     "output_type": "execute_result"
    }
   ],
   "source": [
    "mystring.lower()\n"
   ]
  },
  {
   "cell_type": "markdown",
   "id": "92b0fe0a",
   "metadata": {},
   "source": [
    "---"
   ]
  },
  {
   "cell_type": "markdown",
   "id": "3c7b4fa8",
   "metadata": {},
   "source": [
    ".replace(old, new): Replaces old substring with new."
   ]
  },
  {
   "cell_type": "code",
   "execution_count": 21,
   "id": "6e6c26e4",
   "metadata": {
    "tags": []
   },
   "outputs": [
    {
     "data": {
      "text/plain": [
       "\"Monte Boa's Flying Circus\""
      ]
     },
     "execution_count": 21,
     "metadata": {},
     "output_type": "execute_result"
    }
   ],
   "source": [
    "rep_string = \"Boa's\"\n",
    "mystring.replace(\"Python's\", rep_string)\n"
   ]
  },
  {
   "cell_type": "markdown",
   "id": "3b88f427",
   "metadata": {},
   "source": [
    "Do you think `.replace` actually replaces anything in `mystring`, as the name would imply? Go ahead and see:"
   ]
  },
  {
   "cell_type": "code",
   "execution_count": 22,
   "id": "60d9faa8",
   "metadata": {
    "tags": []
   },
   "outputs": [
    {
     "data": {
      "text/plain": [
       "\"Monte Python's Flying Circus\""
      ]
     },
     "execution_count": 22,
     "metadata": {},
     "output_type": "execute_result"
    }
   ],
   "source": [
    "mystring"
   ]
  },
  {
   "cell_type": "markdown",
   "id": "e0c44e35",
   "metadata": {},
   "source": [
    "---"
   ]
  },
  {
   "cell_type": "markdown",
   "id": "4b8df016",
   "metadata": {},
   "source": [
    "Take a look at all methods that strings have (see pro tip, above):"
   ]
  },
  {
   "cell_type": "code",
   "execution_count": null,
   "id": "7cd66767",
   "metadata": {},
   "outputs": [],
   "source": [
    "mystring."
   ]
  },
  {
   "cell_type": "markdown",
   "id": "3f4ac524",
   "metadata": {},
   "source": [
    "That's a lot of string methods!"
   ]
  },
  {
   "cell_type": "markdown",
   "id": "514e1732",
   "metadata": {},
   "source": [
    "---"
   ]
  },
  {
   "cell_type": "markdown",
   "id": "b7579ae5",
   "metadata": {},
   "source": [
    "#### List Methods\n",
    "\n",
    "Lists in Python come with a variety of methods that allow us to modify or query the list in some way. Here are some commonly used list methods:"
   ]
  },
  {
   "cell_type": "markdown",
   "id": "ae0b0e1e",
   "metadata": {},
   "source": [
    "- **.append(item)**\n",
    "  Adds an item to the end of the list."
   ]
  },
  {
   "cell_type": "code",
   "execution_count": null,
   "id": "854656fe",
   "metadata": {},
   "outputs": [],
   "source": [
    "fruits = [\"apple\", \"banana\"]\n",
    "fruits.append(\"cherry\")\n",
    "print(fruits) # ['apple', 'banana', 'cherry']"
   ]
  },
  {
   "cell_type": "markdown",
   "id": "f9fb67fc",
   "metadata": {},
   "source": [
    "- **.extend(iterable)**\n",
    "  Appends the *contents* of a list, tuple, or string to the list."
   ]
  },
  {
   "cell_type": "code",
   "execution_count": null,
   "id": "193ac460",
   "metadata": {},
   "outputs": [],
   "source": [
    "fruits = [\"apple\", \"banana\"]\n",
    "more_fruits = [\"cherry\", \"date\"]\n",
    "fruits.extend(more_fruits)\n",
    "print(fruits) # ['apple', 'banana', 'cherry', 'date']"
   ]
  },
  {
   "cell_type": "markdown",
   "id": "56de72b7",
   "metadata": {},
   "source": [
    "---"
   ]
  },
  {
   "cell_type": "markdown",
   "id": "80754b15",
   "metadata": {},
   "source": [
    "Note the difference between `.extend` and `.append` with a container as an argument! Given:"
   ]
  },
  {
   "cell_type": "code",
   "execution_count": null,
   "id": "ddd007e9",
   "metadata": {
    "tags": []
   },
   "outputs": [],
   "source": [
    "list1 = [\"a\", 1, \"b\", 2]\n",
    "list2 = [1, 2, 3]"
   ]
  },
  {
   "cell_type": "markdown",
   "id": "d065e585",
   "metadata": {},
   "source": [
    "Try both `.extend` and `append` in the cell below (you'll need to re-run the cell above between trys)."
   ]
  },
  {
   "cell_type": "code",
   "execution_count": null,
   "id": "ae02ae9a",
   "metadata": {
    "tags": []
   },
   "outputs": [],
   "source": [
    "#print(list1.append(list2))\n",
    "print(list1.extend(list2))"
   ]
  },
  {
   "cell_type": "markdown",
   "id": "7969d1a3",
   "metadata": {},
   "source": [
    "---"
   ]
  },
  {
   "cell_type": "markdown",
   "id": "990e75ae",
   "metadata": {},
   "source": [
    "There are many list methods (check for yourself!)"
   ]
  },
  {
   "cell_type": "code",
   "execution_count": null,
   "id": "b2030115",
   "metadata": {},
   "outputs": [],
   "source": [
    "list1."
   ]
  },
  {
   "cell_type": "markdown",
   "id": "33641c16",
   "metadata": {},
   "source": [
    "Some useful one are:"
   ]
  },
  {
   "cell_type": "markdown",
   "id": "a0a1daa3",
   "metadata": {},
   "source": [
    "- **.insert(index, item)**\n",
    "  Inserts an item at a specific position in the list."
   ]
  },
  {
   "cell_type": "code",
   "execution_count": null,
   "id": "bb79226e",
   "metadata": {},
   "outputs": [],
   "source": [
    "fruits = [\"apple\", \"cherry\"]\n",
    "fruits.insert(1, \"banana\")\n",
    "print(fruits) # ['apple', 'banana', 'cherry']"
   ]
  },
  {
   "cell_type": "markdown",
   "id": "6f36cd15",
   "metadata": {},
   "source": [
    "- **.remove(item)**\n",
    "  Removes the first occurrence of the item from the list. Raises a ValueError if the item is not found."
   ]
  },
  {
   "cell_type": "code",
   "execution_count": null,
   "id": "0362007a",
   "metadata": {},
   "outputs": [],
   "source": [
    "fruits = [\"apple\", \"banana\", \"cherry\"]\n",
    "fruits.remove(\"banana\")\n",
    "print(fruits) # ['apple', 'cherry']"
   ]
  },
  {
   "cell_type": "markdown",
   "id": "d0a3ffee",
   "metadata": {},
   "source": [
    "- **.pop(index=-1)**\n",
    "  Removes and returns the item at the given index. If no index is specified, it removes and returns the last item."
   ]
  },
  {
   "cell_type": "code",
   "execution_count": null,
   "id": "559b5205",
   "metadata": {},
   "outputs": [],
   "source": [
    "fruits = [\"apple\", \"banana\", \"cherry\"]\n",
    "popped_fruit = fruits.pop(1)\n",
    "print(popped_fruit) # 'banana'\n",
    "print(fruits) # ['apple', 'cherry']"
   ]
  },
  {
   "cell_type": "markdown",
   "id": "ee042d0c",
   "metadata": {},
   "source": [
    "- **.index(item, [start, [stop]])**\n",
    "  Returns the index of the first occurrence of the item in the list. You can specify optional start and stop indices to search in a subpart of the list. Raises a ValueError if the item is not found."
   ]
  },
  {
   "cell_type": "code",
   "execution_count": null,
   "id": "31873ceb",
   "metadata": {
    "tags": []
   },
   "outputs": [],
   "source": [
    "numbers = [1, 2, 3, 4, 5, 3]\n",
    "index_of_three = numbers.index(3)\n",
    "print(index_of_three) # 2"
   ]
  },
  {
   "cell_type": "markdown",
   "id": "e6c46b4a",
   "metadata": {},
   "source": [
    "- **.count(item)**\n",
    "  Returns the number of times the item appears in the list."
   ]
  },
  {
   "cell_type": "code",
   "execution_count": null,
   "id": "cbd7a66c",
   "metadata": {},
   "outputs": [],
   "source": [
    "numbers = [1, 2, 3, 2, 3, 4, 5]\n",
    "count_of_twos = numbers.count(2)\n",
    "print(count_of_twos) # 2"
   ]
  },
  {
   "cell_type": "markdown",
   "id": "d8dc4b92",
   "metadata": {},
   "source": [
    "- **.sort([key=None, reverse=False])**\n",
    "  Sorts the list in place. You can use the `key` parameter for custom sorting and `reverse=True` to sort in descending order."
   ]
  },
  {
   "cell_type": "code",
   "execution_count": null,
   "id": "088f91d9",
   "metadata": {},
   "outputs": [],
   "source": [
    "numbers = [3, 1, 4, 2]\n",
    "numbers.sort()\n",
    "print(numbers) # [1, 2, 3, 4]"
   ]
  },
  {
   "cell_type": "markdown",
   "id": "2abe8428",
   "metadata": {},
   "source": [
    "- **.reverse()**\n",
    "  Reverses the list ***in place***. Remember, `lists` are mutable, so a list method can change  the list itself!"
   ]
  },
  {
   "cell_type": "code",
   "execution_count": null,
   "id": "2360eb22",
   "metadata": {},
   "outputs": [],
   "source": [
    "numbers = [1, 2, 3]\n",
    "numbers.reverse()\n",
    "print(numbers) # [3, 2, 1]"
   ]
  },
  {
   "cell_type": "markdown",
   "id": "ae30e463",
   "metadata": {},
   "source": [
    "- **.copy()**\n",
    "  Returns a copy  of the list."
   ]
  },
  {
   "cell_type": "code",
   "execution_count": null,
   "id": "c71ac364",
   "metadata": {},
   "outputs": [],
   "source": [
    "original = [1, 2, 3]\n",
    "copied = original.copy()\n",
    "print(copied) # [1, 2, 3]"
   ]
  },
  {
   "cell_type": "markdown",
   "id": "9ff4d440",
   "metadata": {},
   "source": [
    "---"
   ]
  },
  {
   "cell_type": "markdown",
   "id": "b137a5c7",
   "metadata": {},
   "source": [
    "#### Tuple Methods\n",
    "\n"
   ]
  },
  {
   "cell_type": "markdown",
   "id": "accb9c63",
   "metadata": {},
   "source": [
    "Tuples do not have as many built-in methods as lists because they are immutable. If something can't be changed, that limits the number of things you can do to it! However, we have:"
   ]
  },
  {
   "cell_type": "markdown",
   "id": "4d6bc96c",
   "metadata": {},
   "source": [
    ".index(item): Returns the index of the first occurrence of the item."
   ]
  },
  {
   "cell_type": "code",
   "execution_count": null,
   "id": "a57f036a",
   "metadata": {},
   "outputs": [],
   "source": [
    "t = (1, 2, 3, 2)\n",
    "print(t.index(2))"
   ]
  },
  {
   "cell_type": "markdown",
   "id": "ef0c89a5",
   "metadata": {},
   "source": [
    "And:"
   ]
  },
  {
   "cell_type": "markdown",
   "id": "b85b1a04",
   "metadata": {},
   "source": [
    ".count(item): Counts the occurrences of an item."
   ]
  },
  {
   "cell_type": "code",
   "execution_count": null,
   "id": "184252f6",
   "metadata": {},
   "outputs": [],
   "source": [
    "t = (1, 2, 3, 2)\n",
    "print(t.count(2))"
   ]
  },
  {
   "cell_type": "markdown",
   "id": "758e7067",
   "metadata": {},
   "source": [
    "---"
   ]
  },
  {
   "cell_type": "markdown",
   "id": "57527d69",
   "metadata": {},
   "source": [
    "#### Dictionary Methods"
   ]
  },
  {
   "cell_type": "markdown",
   "id": "9cb491c1",
   "metadata": {},
   "source": [
    "Dictionaries have a lot methods – check them out:"
   ]
  },
  {
   "cell_type": "code",
   "execution_count": null,
   "id": "9cfd7a0b",
   "metadata": {},
   "outputs": [],
   "source": [
    "d = {'a': 1, 'b': 2}\n",
    "d."
   ]
  },
  {
   "cell_type": "markdown",
   "id": "a2915977",
   "metadata": {},
   "source": [
    "Two of the useful ones, especially for long dictionaries, are:"
   ]
  },
  {
   "cell_type": "markdown",
   "id": "901d4224",
   "metadata": {},
   "source": [
    "`.keys()`: Returns a list of all keys in the dictionary."
   ]
  },
  {
   "cell_type": "code",
   "execution_count": null,
   "id": "134adbd7",
   "metadata": {
    "tags": []
   },
   "outputs": [],
   "source": [
    "d = {'a': 1, 'b': 2}\n",
    "print(d.keys())"
   ]
  },
  {
   "cell_type": "markdown",
   "id": "52457764",
   "metadata": {},
   "source": [
    "`.values()`: Returns a list of all values in the dictionary."
   ]
  },
  {
   "cell_type": "code",
   "execution_count": null,
   "id": "1829c0c5",
   "metadata": {
    "tags": []
   },
   "outputs": [],
   "source": [
    "d = {'a': 1, 'b': 2}\n",
    "print(d.values())"
   ]
  },
  {
   "cell_type": "markdown",
   "id": "38c74fe4",
   "metadata": {},
   "source": [
    "---"
   ]
  },
  {
   "cell_type": "markdown",
   "id": "b77a02b4",
   "metadata": {},
   "source": [
    "## Summary\n",
    "\n",
    "That's an overview of primary ways we interact with containers in Python: Indexing, Slicing, and Methods!"
   ]
  }
 ],
 "metadata": {
  "kernelspec": {
   "display_name": "Python 3 (ipykernel)",
   "language": "python",
   "name": "python3"
  },
  "language_info": {
   "codemirror_mode": {
    "name": "ipython",
    "version": 3
   },
   "file_extension": ".py",
   "mimetype": "text/x-python",
   "name": "python",
   "nbconvert_exporter": "python",
   "pygments_lexer": "ipython3",
   "version": "3.11.4"
  }
 },
 "nbformat": 4,
 "nbformat_minor": 5
}
